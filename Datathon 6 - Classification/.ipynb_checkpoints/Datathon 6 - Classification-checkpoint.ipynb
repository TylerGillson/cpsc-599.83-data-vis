{
 "cells": [
  {
   "cell_type": "markdown",
   "metadata": {},
   "source": [
    "# Datathon #6 - Classification"
   ]
  },
  {
   "cell_type": "markdown",
   "metadata": {},
   "source": [
    "This week, you will train a set of classifiers to label LEGO sets by theme, based on other metadata about the sets (year, number of parts, colors, or some combination of them). \n",
    "\n",
    "You should test at least 5 different classifiers:\n",
    "+ kNN\n",
    "+ Naïve Bayes\n",
    "+ Decision Tree\n",
    "+ Random Forest\n",
    "+ Neural Network\n",
    "\n",
    "\n",
    "For each classifier, report:\n",
    "1. What parameters (if any) you tuned.\n",
    "2. How well it performed. — Report the Accuracy, Precision, Recall, and F1-score. Also render a confusion matrix. (Remember, don’t test on your training data!)\n",
    "3. Your interpretation of the result. Explain what you think the classifier got right/wrong. (Feel free to include visualizations or additional info that helps explain)."
   ]
  },
  {
   "cell_type": "code",
   "execution_count": 188,
   "metadata": {},
   "outputs": [],
   "source": [
    "import numpy as np\n",
    "import scipy as sp\n",
    "import pandas as pd\n",
    "import sklearn as sk\n",
    "import sklearn.metrics as skm\n",
    "\n",
    "import matplotlib.pyplot as plt\n",
    "%matplotlib inline\n",
    "import seaborn as sns\n",
    "sns.set(style='white', color_codes=True, font_scale=1.3)"
   ]
  },
  {
   "cell_type": "markdown",
   "metadata": {},
   "source": [
    "We will use a variant of the second dataset from last week, adding a \"theme\" column.\n",
    "\n",
    "** LEGO Colors by Set + Theme** — Contains data on the colors of the pieces in each LEGO set.\n",
    "\n",
    "- Set Num = A unique alphanumeric ID number for each set. \n",
    "- Set Name = The official name of the set (some names are reused for more than one set).\n",
    "- Year = The year the set was released.\n",
    "- Num Parts = Total number of parts listed on the box.\n",
    "- Theme = The theme the set was released under (\"Technic\", \"Ninjago\", \"Star Wars\", \"City\", etc.)\n",
    "- [Colors] = Number of parts of each color in the set, according to the Rebrickable database.\n",
    "\n",
    "You can also get more data about individual sets by going to http://rebrickable.com/sets/{SetNum}"
   ]
  },
  {
   "cell_type": "code",
   "execution_count": 189,
   "metadata": {},
   "outputs": [],
   "source": [
    "# Import data, remove NaN\n",
    "lego_frame_full = pd.read_excel('Set Color Data+Themes.xlsx')\n",
    "lego_frame_full.fillna(0, inplace=True)\n",
    "\n",
    "# For this datathon we'll just focus on 10 most popular themes.\n",
    "lego_frame = lego_frame_full[(lego_frame_full[\"Theme\"] == \"Technic\") | \n",
    "                        (lego_frame_full[\"Theme\"] == \"Friends\") |\n",
    "                        (lego_frame_full[\"Theme\"] == \"City\") |\n",
    "                        (lego_frame_full[\"Theme\"] == \"Basic Set\") |\n",
    "                        (lego_frame_full[\"Theme\"] == \"Creator\") |\n",
    "                        (lego_frame_full[\"Theme\"] == \"Duplo\") |\n",
    "                        (lego_frame_full[\"Theme\"] == \"Star Wars\") |\n",
    "                        (lego_frame_full[\"Theme\"] == \"Ninjago\") |\n",
    "                        (lego_frame_full[\"Theme\"] == \"Construction\") |\n",
    "                        (lego_frame_full[\"Theme\"] == \"Airport\")]"
   ]
  },
  {
   "cell_type": "code",
   "execution_count": 190,
   "metadata": {},
   "outputs": [
    {
     "data": {
      "text/html": [
       "<div>\n",
       "<style scoped>\n",
       "    .dataframe tbody tr th:only-of-type {\n",
       "        vertical-align: middle;\n",
       "    }\n",
       "\n",
       "    .dataframe tbody tr th {\n",
       "        vertical-align: top;\n",
       "    }\n",
       "\n",
       "    .dataframe thead th {\n",
       "        text-align: right;\n",
       "    }\n",
       "</style>\n",
       "<table border=\"1\" class=\"dataframe\">\n",
       "  <thead>\n",
       "    <tr style=\"text-align: right;\">\n",
       "      <th></th>\n",
       "      <th>Set Num</th>\n",
       "      <th>Set Name</th>\n",
       "      <th>Theme</th>\n",
       "      <th>Year</th>\n",
       "      <th>Num Parts</th>\n",
       "      <th>[No Color]</th>\n",
       "      <th>Aqua</th>\n",
       "      <th>Black</th>\n",
       "      <th>Blue</th>\n",
       "      <th>Blue-Violet</th>\n",
       "      <th>...</th>\n",
       "      <th>Trans-Very Lt Blue</th>\n",
       "      <th>Trans-Yellow</th>\n",
       "      <th>Unknown</th>\n",
       "      <th>Very Light Bluish Gray</th>\n",
       "      <th>Very Light Gray</th>\n",
       "      <th>Very Light Orange</th>\n",
       "      <th>Violet</th>\n",
       "      <th>White</th>\n",
       "      <th>Yellow</th>\n",
       "      <th>Yellowish Green</th>\n",
       "    </tr>\n",
       "  </thead>\n",
       "  <tbody>\n",
       "    <tr>\n",
       "      <th>4</th>\n",
       "      <td>2823692</td>\n",
       "      <td>Simple and Motorized Machines Activity Pack</td>\n",
       "      <td>Technic</td>\n",
       "      <td>1997</td>\n",
       "      <td>24</td>\n",
       "      <td>24.0</td>\n",
       "      <td>0.0</td>\n",
       "      <td>0.0</td>\n",
       "      <td>0.0</td>\n",
       "      <td>0.0</td>\n",
       "      <td>...</td>\n",
       "      <td>0.0</td>\n",
       "      <td>0.0</td>\n",
       "      <td>0.0</td>\n",
       "      <td>0.0</td>\n",
       "      <td>0.0</td>\n",
       "      <td>0.0</td>\n",
       "      <td>0.0</td>\n",
       "      <td>0.0</td>\n",
       "      <td>0.0</td>\n",
       "      <td>0.0</td>\n",
       "    </tr>\n",
       "    <tr>\n",
       "      <th>8</th>\n",
       "      <td>2818944</td>\n",
       "      <td>Structures Set</td>\n",
       "      <td>Technic</td>\n",
       "      <td>1997</td>\n",
       "      <td>439</td>\n",
       "      <td>20.0</td>\n",
       "      <td>0.0</td>\n",
       "      <td>116.0</td>\n",
       "      <td>56.0</td>\n",
       "      <td>0.0</td>\n",
       "      <td>...</td>\n",
       "      <td>0.0</td>\n",
       "      <td>0.0</td>\n",
       "      <td>0.0</td>\n",
       "      <td>0.0</td>\n",
       "      <td>0.0</td>\n",
       "      <td>0.0</td>\n",
       "      <td>0.0</td>\n",
       "      <td>0.0</td>\n",
       "      <td>0.0</td>\n",
       "      <td>0.0</td>\n",
       "    </tr>\n",
       "    <tr>\n",
       "      <th>10</th>\n",
       "      <td>2814926</td>\n",
       "      <td>Technology Activity Set</td>\n",
       "      <td>Technic</td>\n",
       "      <td>1994</td>\n",
       "      <td>318</td>\n",
       "      <td>17.0</td>\n",
       "      <td>0.0</td>\n",
       "      <td>92.0</td>\n",
       "      <td>2.0</td>\n",
       "      <td>0.0</td>\n",
       "      <td>...</td>\n",
       "      <td>0.0</td>\n",
       "      <td>0.0</td>\n",
       "      <td>0.0</td>\n",
       "      <td>0.0</td>\n",
       "      <td>0.0</td>\n",
       "      <td>0.0</td>\n",
       "      <td>0.0</td>\n",
       "      <td>2.0</td>\n",
       "      <td>1.0</td>\n",
       "      <td>0.0</td>\n",
       "    </tr>\n",
       "  </tbody>\n",
       "</table>\n",
       "<p>3 rows × 136 columns</p>\n",
       "</div>"
      ],
      "text/plain": [
       "    Set Num                                     Set Name    Theme  Year  \\\n",
       "4   2823692  Simple and Motorized Machines Activity Pack  Technic  1997   \n",
       "8   2818944                               Structures Set  Technic  1997   \n",
       "10  2814926                      Technology Activity Set  Technic  1994   \n",
       "\n",
       "    Num Parts  [No Color]  Aqua  Black  Blue  Blue-Violet       ...         \\\n",
       "4          24        24.0   0.0    0.0   0.0          0.0       ...          \n",
       "8         439        20.0   0.0  116.0  56.0          0.0       ...          \n",
       "10        318        17.0   0.0   92.0   2.0          0.0       ...          \n",
       "\n",
       "    Trans-Very Lt Blue  Trans-Yellow  Unknown  Very Light Bluish Gray  \\\n",
       "4                  0.0           0.0      0.0                     0.0   \n",
       "8                  0.0           0.0      0.0                     0.0   \n",
       "10                 0.0           0.0      0.0                     0.0   \n",
       "\n",
       "    Very Light Gray  Very Light Orange  Violet  White  Yellow  Yellowish Green  \n",
       "4               0.0                0.0     0.0    0.0     0.0              0.0  \n",
       "8               0.0                0.0     0.0    0.0     0.0              0.0  \n",
       "10              0.0                0.0     0.0    2.0     1.0              0.0  \n",
       "\n",
       "[3 rows x 136 columns]"
      ]
     },
     "execution_count": 190,
     "metadata": {},
     "output_type": "execute_result"
    }
   ],
   "source": [
    "lego_frame.head(3)"
   ]
  },
  {
   "cell_type": "markdown",
   "metadata": {},
   "source": [
    "Some potentially useful refactorings of the data."
   ]
  },
  {
   "cell_type": "code",
   "execution_count": 191,
   "metadata": {},
   "outputs": [
    {
     "data": {
      "text/html": [
       "<div>\n",
       "<style scoped>\n",
       "    .dataframe tbody tr th:only-of-type {\n",
       "        vertical-align: middle;\n",
       "    }\n",
       "\n",
       "    .dataframe tbody tr th {\n",
       "        vertical-align: top;\n",
       "    }\n",
       "\n",
       "    .dataframe thead th {\n",
       "        text-align: right;\n",
       "    }\n",
       "</style>\n",
       "<table border=\"1\" class=\"dataframe\">\n",
       "  <thead>\n",
       "    <tr style=\"text-align: right;\">\n",
       "      <th></th>\n",
       "      <th>[No Color]</th>\n",
       "      <th>Aqua</th>\n",
       "      <th>Black</th>\n",
       "      <th>Blue</th>\n",
       "      <th>Blue-Violet</th>\n",
       "      <th>Bright Green</th>\n",
       "      <th>Bright Light Blue</th>\n",
       "      <th>Bright Light Orange</th>\n",
       "      <th>Bright Light Yellow</th>\n",
       "      <th>Bright Pink</th>\n",
       "      <th>...</th>\n",
       "      <th>Very Light Orange</th>\n",
       "      <th>Violet</th>\n",
       "      <th>White</th>\n",
       "      <th>Yellow</th>\n",
       "      <th>Yellowish Green</th>\n",
       "      <th>Year</th>\n",
       "      <th>Set Name</th>\n",
       "      <th>Set Num</th>\n",
       "      <th>Theme</th>\n",
       "      <th>Num Parts</th>\n",
       "    </tr>\n",
       "  </thead>\n",
       "  <tbody>\n",
       "    <tr>\n",
       "      <th>4</th>\n",
       "      <td>1.000000</td>\n",
       "      <td>0.0</td>\n",
       "      <td>0.000000</td>\n",
       "      <td>0.000000</td>\n",
       "      <td>0.0</td>\n",
       "      <td>0.0</td>\n",
       "      <td>0.0</td>\n",
       "      <td>0.0</td>\n",
       "      <td>0.0</td>\n",
       "      <td>0.0</td>\n",
       "      <td>...</td>\n",
       "      <td>0.0</td>\n",
       "      <td>0.0</td>\n",
       "      <td>0.000000</td>\n",
       "      <td>0.000000</td>\n",
       "      <td>0.0</td>\n",
       "      <td>1997</td>\n",
       "      <td>Simple and Motorized Machines Activity Pack</td>\n",
       "      <td>2823692</td>\n",
       "      <td>Technic</td>\n",
       "      <td>24</td>\n",
       "    </tr>\n",
       "    <tr>\n",
       "      <th>8</th>\n",
       "      <td>0.045558</td>\n",
       "      <td>0.0</td>\n",
       "      <td>0.264237</td>\n",
       "      <td>0.127563</td>\n",
       "      <td>0.0</td>\n",
       "      <td>0.0</td>\n",
       "      <td>0.0</td>\n",
       "      <td>0.0</td>\n",
       "      <td>0.0</td>\n",
       "      <td>0.0</td>\n",
       "      <td>...</td>\n",
       "      <td>0.0</td>\n",
       "      <td>0.0</td>\n",
       "      <td>0.000000</td>\n",
       "      <td>0.000000</td>\n",
       "      <td>0.0</td>\n",
       "      <td>1997</td>\n",
       "      <td>Structures Set</td>\n",
       "      <td>2818944</td>\n",
       "      <td>Technic</td>\n",
       "      <td>439</td>\n",
       "    </tr>\n",
       "    <tr>\n",
       "      <th>10</th>\n",
       "      <td>0.051360</td>\n",
       "      <td>0.0</td>\n",
       "      <td>0.277946</td>\n",
       "      <td>0.006042</td>\n",
       "      <td>0.0</td>\n",
       "      <td>0.0</td>\n",
       "      <td>0.0</td>\n",
       "      <td>0.0</td>\n",
       "      <td>0.0</td>\n",
       "      <td>0.0</td>\n",
       "      <td>...</td>\n",
       "      <td>0.0</td>\n",
       "      <td>0.0</td>\n",
       "      <td>0.006042</td>\n",
       "      <td>0.003021</td>\n",
       "      <td>0.0</td>\n",
       "      <td>1994</td>\n",
       "      <td>Technology Activity Set</td>\n",
       "      <td>2814926</td>\n",
       "      <td>Technic</td>\n",
       "      <td>318</td>\n",
       "    </tr>\n",
       "  </tbody>\n",
       "</table>\n",
       "<p>3 rows × 136 columns</p>\n",
       "</div>"
      ],
      "text/plain": [
       "    [No Color]  Aqua     Black      Blue  Blue-Violet  Bright Green  \\\n",
       "4     1.000000   0.0  0.000000  0.000000          0.0           0.0   \n",
       "8     0.045558   0.0  0.264237  0.127563          0.0           0.0   \n",
       "10    0.051360   0.0  0.277946  0.006042          0.0           0.0   \n",
       "\n",
       "    Bright Light Blue  Bright Light Orange  Bright Light Yellow  Bright Pink  \\\n",
       "4                 0.0                  0.0                  0.0          0.0   \n",
       "8                 0.0                  0.0                  0.0          0.0   \n",
       "10                0.0                  0.0                  0.0          0.0   \n",
       "\n",
       "      ...      Very Light Orange  Violet     White    Yellow  Yellowish Green  \\\n",
       "4     ...                    0.0     0.0  0.000000  0.000000              0.0   \n",
       "8     ...                    0.0     0.0  0.000000  0.000000              0.0   \n",
       "10    ...                    0.0     0.0  0.006042  0.003021              0.0   \n",
       "\n",
       "    Year                                     Set Name  Set Num    Theme  \\\n",
       "4   1997  Simple and Motorized Machines Activity Pack  2823692  Technic   \n",
       "8   1997                               Structures Set  2818944  Technic   \n",
       "10  1994                      Technology Activity Set  2814926  Technic   \n",
       "\n",
       "    Num Parts  \n",
       "4          24  \n",
       "8         439  \n",
       "10        318  \n",
       "\n",
       "[3 rows x 136 columns]"
      ]
     },
     "execution_count": 191,
     "metadata": {},
     "output_type": "execute_result"
    }
   ],
   "source": [
    "# Creates a copy of the dataframe where color counts are normalized \n",
    "#  so each gives the % of parts in the set with that color, rather than the total count.\n",
    "norm_lego = lego_frame.copy()\n",
    "norm_lego = norm_lego.drop([ 'Set Name', 'Set Num', 'Theme', 'Year', 'Num Parts'], axis=1)\n",
    "norm_lego = norm_lego.div(norm_lego.sum(axis=1), axis=0)\n",
    "\n",
    "# A list of all the color name columns\n",
    "color_cols = norm_lego.columns\n",
    "# A list of all the other numeric columns\n",
    "other_cols = [\"Year\", \"Num Parts\"]\n",
    "\n",
    "# Add back the non-numeric columns to the normalized table\n",
    "norm_lego[\"Year\"] = lego_frame[\"Year\"]\n",
    "norm_lego[\"Set Name\"] = lego_frame[\"Set Name\"]\n",
    "norm_lego[\"Set Num\"] = lego_frame[\"Set Num\"]\n",
    "norm_lego[\"Theme\"] = lego_frame[\"Theme\"]\n",
    "norm_lego[\"Num Parts\"] = lego_frame[\"Num Parts\"]\n",
    "norm_lego.head(3)"
   ]
  },
  {
   "cell_type": "code",
   "execution_count": 192,
   "metadata": {},
   "outputs": [
    {
     "data": {
      "text/plain": [
       "Index(['[No Color]', 'Aqua', 'Black', 'Blue', 'Blue-Violet', 'Bright Green',\n",
       "       'Bright Light Blue', 'Bright Light Orange', 'Bright Light Yellow',\n",
       "       'Bright Pink',\n",
       "       ...\n",
       "       'Trans-Very Lt Blue', 'Trans-Yellow', 'Unknown',\n",
       "       'Very Light Bluish Gray', 'Very Light Gray', 'Very Light Orange',\n",
       "       'Violet', 'White', 'Yellow', 'Yellowish Green'],\n",
       "      dtype='object', length=131)"
      ]
     },
     "execution_count": 192,
     "metadata": {},
     "output_type": "execute_result"
    }
   ],
   "source": [
    "color_cols # The complete list of color columns"
   ]
  },
  {
   "cell_type": "markdown",
   "metadata": {},
   "source": [
    "## Training and Test Splits\n",
    "Make sure you don't accidentally test on your training data."
   ]
  },
  {
   "cell_type": "code",
   "execution_count": 6,
   "metadata": {},
   "outputs": [],
   "source": [
    "# Generate test and training sets\n",
    "from sklearn.model_selection import train_test_split\n",
    "\n",
    "color_train, color_test, theme_train, theme_test = sk.model_selection.train_test_split(\n",
    "    norm_lego.drop(columns=['Year','Set Name','Set Num','Theme','Num Parts']), norm_lego['Theme'], test_size=0.4, random_state=0)\n"
   ]
  },
  {
   "cell_type": "markdown",
   "metadata": {},
   "source": [
    "## k-Nearest Neighbors"
   ]
  },
  {
   "cell_type": "code",
   "execution_count": 7,
   "metadata": {
    "scrolled": true
   },
   "outputs": [
    {
     "data": {
      "text/plain": [
       "KNeighborsClassifier(algorithm='auto', leaf_size=30, metric='minkowski',\n",
       "           metric_params=None, n_jobs=1, n_neighbors=4, p=2,\n",
       "           weights='uniform')"
      ]
     },
     "execution_count": 7,
     "metadata": {},
     "output_type": "execute_result"
    }
   ],
   "source": [
    "from sklearn.neighbors import KNeighborsClassifier\n",
    "\n",
    "# Be sure to look at the available parameters on each classifier.\n",
    "# For example, you might want to experiment with the number of neighbours here. \n",
    "n=4   \n",
    "lego_knn = KNeighborsClassifier(n_neighbors=n)\n",
    "lego_knn.fit(color_train, theme_train)"
   ]
  },
  {
   "cell_type": "code",
   "execution_count": 8,
   "metadata": {},
   "outputs": [],
   "source": [
    "lego_knn_predictions = lego_knn.predict(color_test)"
   ]
  },
  {
   "cell_type": "code",
   "execution_count": 9,
   "metadata": {},
   "outputs": [
    {
     "data": {
      "text/plain": [
       "0.6307531380753139"
      ]
     },
     "execution_count": 9,
     "metadata": {},
     "output_type": "execute_result"
    }
   ],
   "source": [
    "#Accuracy\n",
    "skm.accuracy_score(y_true=theme_test,\n",
    "                   y_pred=lego_knn_predictions)"
   ]
  },
  {
   "cell_type": "code",
   "execution_count": 10,
   "metadata": {},
   "outputs": [
    {
     "data": {
      "text/plain": [
       "0.6339255141510571"
      ]
     },
     "execution_count": 10,
     "metadata": {},
     "output_type": "execute_result"
    }
   ],
   "source": [
    "# Precision\n",
    "skm.precision_score(y_true=theme_test,\n",
    "                    y_pred=lego_knn_predictions,\n",
    "                    average='weighted')"
   ]
  },
  {
   "cell_type": "code",
   "execution_count": 11,
   "metadata": {},
   "outputs": [
    {
     "data": {
      "text/plain": [
       "0.6307531380753139"
      ]
     },
     "execution_count": 11,
     "metadata": {},
     "output_type": "execute_result"
    }
   ],
   "source": [
    "# Recall\n",
    "skm.recall_score(y_true=theme_test,\n",
    "                    y_pred=lego_knn_predictions,\n",
    "                    average='weighted')"
   ]
  },
  {
   "cell_type": "code",
   "execution_count": 12,
   "metadata": {},
   "outputs": [
    {
     "data": {
      "text/plain": [
       "0.6177822586353656"
      ]
     },
     "execution_count": 12,
     "metadata": {},
     "output_type": "execute_result"
    }
   ],
   "source": [
    "# F1\n",
    "skm.f1_score(y_true=theme_test,\n",
    "                    y_pred=lego_knn_predictions,\n",
    "                    average='weighted')"
   ]
  },
  {
   "cell_type": "code",
   "execution_count": 13,
   "metadata": {},
   "outputs": [
    {
     "data": {
      "text/plain": [
       "array([[ 48,   2,   1,   7,   4,   0,   0,   0,   1,   9],\n",
       "       [  3,  95,   0,   1,   0,   1,   3,   0,   0,   0],\n",
       "       [ 21,  10,  28,  14,  10,   4,   3,   2,   7,   6],\n",
       "       [ 10,   0,   1,  51,   0,   0,   1,   0,   1,   7],\n",
       "       [ 20,  13,   7,   9,  28,   1,   4,   5,   5,  12],\n",
       "       [  4,  15,   1,   1,   1,  59,   5,   1,   0,   2],\n",
       "       [  3,   4,   3,   0,   8,   6,  70,   3,   1,   0],\n",
       "       [  2,   2,   5,   1,   4,   1,   1,  64,   4,   2],\n",
       "       [  7,   3,   5,   2,   8,   1,   1,   2,  28,  10],\n",
       "       [  9,   0,   4,   8,   0,   3,   0,   0,   5, 132]])"
      ]
     },
     "execution_count": 13,
     "metadata": {},
     "output_type": "execute_result"
    }
   ],
   "source": [
    "# Compute the confusion matrix\n",
    "lego_knn_cfmat = skm.confusion_matrix(\n",
    "    y_true=theme_test,\n",
    "    y_pred=lego_knn_predictions,)\n",
    "lego_knn_cfmat"
   ]
  },
  {
   "cell_type": "code",
   "execution_count": 14,
   "metadata": {},
   "outputs": [
    {
     "data": {
      "text/plain": [
       "Text(0.5,1,'Confusion Matrix')"
      ]
     },
     "execution_count": 14,
     "metadata": {},
     "output_type": "execute_result"
    },
    {
     "data": {
      "image/png": "[encoded data removed]",
      "text/plain": [
       "<matplotlib.figure.Figure at 0x1172da240>"
      ]
     },
     "metadata": {},
     "output_type": "display_data"
    }
   ],
   "source": [
    "# Visualize the confusion matrix\n",
    "fig, ax = plt.subplots(figsize=(16,8))         # Sample figsize in inches\n",
    "\n",
    "sns.heatmap(lego_knn_cfmat, \n",
    "            xticklabels=lego_knn.classes_,\n",
    "            yticklabels=lego_knn.classes_,\n",
    "            annot=True,\n",
    "            ax=ax,\n",
    "            fmt='g')\n",
    "plt.xlabel('Predicted Label')\n",
    "plt.ylabel('True Label')\n",
    "plt.title('Confusion Matrix')"
   ]
  },
  {
   "cell_type": "markdown",
   "metadata": {},
   "source": [
    "## Naive Bayes"
   ]
  },
  {
   "cell_type": "code",
   "execution_count": 15,
   "metadata": {},
   "outputs": [],
   "source": [
    "from sklearn.naive_bayes import GaussianNB"
   ]
  },
  {
   "cell_type": "code",
   "execution_count": 16,
   "metadata": {},
   "outputs": [
    {
     "data": {
      "text/plain": [
       "0.4895397489539749"
      ]
     },
     "execution_count": 16,
     "metadata": {},
     "output_type": "execute_result"
    }
   ],
   "source": [
    "lego_gnb = GaussianNB().fit(color_train, theme_train)\n",
    "lego_gnb_predictions = lego_gnb.predict(color_test)\n",
    "skm.accuracy_score(y_true=theme_test,\n",
    "                   y_pred=lego_gnb_predictions)"
   ]
  },
  {
   "cell_type": "code",
   "execution_count": 17,
   "metadata": {},
   "outputs": [
    {
     "data": {
      "text/plain": [
       "0.517947006995354"
      ]
     },
     "execution_count": 17,
     "metadata": {},
     "output_type": "execute_result"
    }
   ],
   "source": [
    "skm.precision_score(y_true=theme_test,\n",
    "                    y_pred=lego_gnb_predictions,\n",
    "                    average='weighted')"
   ]
  },
  {
   "cell_type": "code",
   "execution_count": 18,
   "metadata": {},
   "outputs": [
    {
     "data": {
      "text/plain": [
       "0.4895397489539749"
      ]
     },
     "execution_count": 18,
     "metadata": {},
     "output_type": "execute_result"
    }
   ],
   "source": [
    "skm.recall_score(y_true=theme_test,\n",
    "                 y_pred=lego_gnb_predictions,\n",
    "                 average='weighted')"
   ]
  },
  {
   "cell_type": "code",
   "execution_count": 19,
   "metadata": {},
   "outputs": [
    {
     "data": {
      "text/plain": [
       "0.45401952104163523"
      ]
     },
     "execution_count": 19,
     "metadata": {},
     "output_type": "execute_result"
    }
   ],
   "source": [
    "skm.f1_score(y_true=theme_test,\n",
    "             y_pred=lego_gnb_predictions,\n",
    "             average='weighted')"
   ]
  },
  {
   "cell_type": "code",
   "execution_count": 20,
   "metadata": {
    "scrolled": false
   },
   "outputs": [
    {
     "data": {
      "text/plain": [
       "Text(0.5,1,'Confusion Matrix')"
      ]
     },
     "execution_count": 20,
     "metadata": {},
     "output_type": "execute_result"
    },
    {
     "data": {
      "image/png": "[encoded data removed]",
      "text/plain": [
       "<matplotlib.figure.Figure at 0x1179da1d0>"
      ]
     },
     "metadata": {},
     "output_type": "display_data"
    }
   ],
   "source": [
    "lego_gnb_cfmat = skm.confusion_matrix(\n",
    "    y_true=theme_test,\n",
    "    y_pred=lego_gnb_predictions)\n",
    "\n",
    "fig, ax = plt.subplots(figsize=(16,8))         # Sample figsize in inches\n",
    "\n",
    "sns.heatmap(lego_gnb_cfmat, \n",
    "            xticklabels=lego_gnb.classes_,\n",
    "            yticklabels=lego_gnb.classes_,\n",
    "            annot=True,\n",
    "            ax=ax,\n",
    "            fmt='g')\n",
    "plt.xlabel('Predicted Label')\n",
    "plt.ylabel('True Label')\n",
    "plt.title('Confusion Matrix')"
   ]
  },
  {
   "cell_type": "markdown",
   "metadata": {},
   "source": [
    "## Decision Trees"
   ]
  },
  {
   "cell_type": "code",
   "execution_count": 21,
   "metadata": {},
   "outputs": [],
   "source": [
    "from sklearn.tree import DecisionTreeClassifier"
   ]
  },
  {
   "cell_type": "code",
   "execution_count": 22,
   "metadata": {},
   "outputs": [
    {
     "data": {
      "text/plain": [
       "0.5951882845188284"
      ]
     },
     "execution_count": 22,
     "metadata": {},
     "output_type": "execute_result"
    }
   ],
   "source": [
    "lego_dt = DecisionTreeClassifier().fit(color_train, theme_train)\n",
    "lego_dt_predictions = lego_dt.predict(color_test)\n",
    "\n",
    "skm.accuracy_score(y_true=theme_test,\n",
    "                   y_pred=lego_dt_predictions)"
   ]
  },
  {
   "cell_type": "code",
   "execution_count": 23,
   "metadata": {},
   "outputs": [
    {
     "data": {
      "text/plain": [
       "0.5964827924643433"
      ]
     },
     "execution_count": 23,
     "metadata": {},
     "output_type": "execute_result"
    }
   ],
   "source": [
    "skm.precision_score(y_true=theme_test,\n",
    "                    y_pred=lego_dt_predictions,\n",
    "                    average='weighted')"
   ]
  },
  {
   "cell_type": "code",
   "execution_count": 24,
   "metadata": {},
   "outputs": [
    {
     "data": {
      "text/plain": [
       "0.5951882845188284"
      ]
     },
     "execution_count": 24,
     "metadata": {},
     "output_type": "execute_result"
    }
   ],
   "source": [
    "skm.recall_score(y_true=theme_test,\n",
    "                 y_pred=lego_dt_predictions,\n",
    "                 average='weighted')"
   ]
  },
  {
   "cell_type": "code",
   "execution_count": 25,
   "metadata": {},
   "outputs": [
    {
     "data": {
      "text/plain": [
       "0.5932062487111163"
      ]
     },
     "execution_count": 25,
     "metadata": {},
     "output_type": "execute_result"
    }
   ],
   "source": [
    "skm.f1_score(y_true=theme_test,\n",
    "             y_pred=lego_dt_predictions,\n",
    "             average='weighted')"
   ]
  },
  {
   "cell_type": "code",
   "execution_count": 26,
   "metadata": {
    "scrolled": false
   },
   "outputs": [
    {
     "data": {
      "text/plain": [
       "Text(0.5,1,'Confusion Matrix')"
      ]
     },
     "execution_count": 26,
     "metadata": {},
     "output_type": "execute_result"
    },
    {
     "data": {
      "image/png": "[encoded data removed]",
      "text/plain": [
       "<matplotlib.figure.Figure at 0x11732fe48>"
      ]
     },
     "metadata": {},
     "output_type": "display_data"
    }
   ],
   "source": [
    "lego_dt_cfmat = skm.confusion_matrix(\n",
    "    y_true=theme_test,\n",
    "    y_pred=lego_dt_predictions)\n",
    "\n",
    "fig, ax = plt.subplots(figsize=(16,8))         # Sample figsize in inches\n",
    "\n",
    "sns.heatmap(lego_dt_cfmat, \n",
    "            xticklabels=lego_dt.classes_,\n",
    "            yticklabels=lego_dt.classes_,\n",
    "            annot=True,\n",
    "            ax=ax,\n",
    "            fmt='g')\n",
    "plt.xlabel('Predicted Label')\n",
    "plt.ylabel('True Label')\n",
    "plt.title('Confusion Matrix')"
   ]
  },
  {
   "cell_type": "markdown",
   "metadata": {},
   "source": [
    "#### Drawing a Decision Tree\n",
    "Rendering decision trees requires the graphviz package. You can install it from the terminal or command line using:\n",
    "> conda install python-graphviz"
   ]
  },
  {
   "cell_type": "code",
   "execution_count": 27,
   "metadata": {},
   "outputs": [],
   "source": [
    "my_features = norm_lego.drop(columns=['Year','Set Name','Set Num','Theme','Num Parts']).columns"
   ]
  },
  {
   "cell_type": "code",
   "execution_count": 28,
   "metadata": {},
   "outputs": [],
   "source": [
    "import graphviz"
   ]
  },
  {
   "cell_type": "code",
   "execution_count": 29,
   "metadata": {},
   "outputs": [],
   "source": [
    "graph_data = sk.tree.export_graphviz(lego_dt, out_file=None,\n",
    "                         feature_names=my_features,  \n",
    "                         class_names=lego_dt.classes_,  \n",
    "                         filled=True, rounded=True,  \n",
    "                         special_characters=True) "
   ]
  },
  {
   "cell_type": "code",
   "execution_count": 31,
   "metadata": {},
   "outputs": [
    {
     "data": {
      "text/plain": [
       "'decision_tree.pdf'"
      ]
     },
     "execution_count": 31,
     "metadata": {},
     "output_type": "execute_result"
    }
   ],
   "source": [
    "graph = graphviz.Source(graph_data) \n",
    "#graph\n",
    "\n",
    "# Or save out to a file using this command:\n",
    "graph.render(\"decision_tree\") "
   ]
  },
  {
   "cell_type": "markdown",
   "metadata": {},
   "source": [
    "# Random Forest"
   ]
  },
  {
   "cell_type": "markdown",
   "metadata": {},
   "source": [
    "### First, I did some preprocessing on the Set Names column..."
   ]
  },
  {
   "cell_type": "code",
   "execution_count": 304,
   "metadata": {},
   "outputs": [
    {
     "data": {
      "text/html": [
       "<div>\n",
       "<style scoped>\n",
       "    .dataframe tbody tr th:only-of-type {\n",
       "        vertical-align: middle;\n",
       "    }\n",
       "\n",
       "    .dataframe tbody tr th {\n",
       "        vertical-align: top;\n",
       "    }\n",
       "\n",
       "    .dataframe thead th {\n",
       "        text-align: right;\n",
       "    }\n",
       "</style>\n",
       "<table border=\"1\" class=\"dataframe\">\n",
       "  <thead>\n",
       "    <tr style=\"text-align: right;\">\n",
       "      <th></th>\n",
       "      <th>word_0</th>\n",
       "      <th>word_1</th>\n",
       "      <th>word_2</th>\n",
       "      <th>word_3</th>\n",
       "      <th>word_4</th>\n",
       "      <th>word_5</th>\n",
       "      <th>word_6</th>\n",
       "      <th>word_7</th>\n",
       "      <th>word_8</th>\n",
       "      <th>word_9</th>\n",
       "      <th>word_10</th>\n",
       "      <th>word_11</th>\n",
       "      <th>word_12</th>\n",
       "      <th>word_13</th>\n",
       "      <th>word_14</th>\n",
       "    </tr>\n",
       "  </thead>\n",
       "  <tbody>\n",
       "    <tr>\n",
       "      <th>6205</th>\n",
       "      <td>Pirate</td>\n",
       "      <td>Ship</td>\n",
       "      <td>a</td>\n",
       "      <td>a</td>\n",
       "      <td>a</td>\n",
       "      <td>a</td>\n",
       "      <td>a</td>\n",
       "      <td>a</td>\n",
       "      <td>a</td>\n",
       "      <td>a</td>\n",
       "      <td>a</td>\n",
       "      <td>a</td>\n",
       "      <td>a</td>\n",
       "      <td>a</td>\n",
       "      <td>a</td>\n",
       "    </tr>\n",
       "    <tr>\n",
       "      <th>10249</th>\n",
       "      <td>Ninjago</td>\n",
       "      <td>Promotional</td>\n",
       "      <td>Giveaway</td>\n",
       "      <td>a</td>\n",
       "      <td>a</td>\n",
       "      <td>a</td>\n",
       "      <td>a</td>\n",
       "      <td>a</td>\n",
       "      <td>a</td>\n",
       "      <td>a</td>\n",
       "      <td>a</td>\n",
       "      <td>a</td>\n",
       "      <td>a</td>\n",
       "      <td>a</td>\n",
       "      <td>a</td>\n",
       "    </tr>\n",
       "    <tr>\n",
       "      <th>8268</th>\n",
       "      <td>Green</td>\n",
       "      <td>Cruiser</td>\n",
       "      <td>a</td>\n",
       "      <td>a</td>\n",
       "      <td>a</td>\n",
       "      <td>a</td>\n",
       "      <td>a</td>\n",
       "      <td>a</td>\n",
       "      <td>a</td>\n",
       "      <td>a</td>\n",
       "      <td>a</td>\n",
       "      <td>a</td>\n",
       "      <td>a</td>\n",
       "      <td>a</td>\n",
       "      <td>a</td>\n",
       "    </tr>\n",
       "    <tr>\n",
       "      <th>8113</th>\n",
       "      <td>ARC-170</td>\n",
       "      <td>Starfighter</td>\n",
       "      <td>a</td>\n",
       "      <td>a</td>\n",
       "      <td>a</td>\n",
       "      <td>a</td>\n",
       "      <td>a</td>\n",
       "      <td>a</td>\n",
       "      <td>a</td>\n",
       "      <td>a</td>\n",
       "      <td>a</td>\n",
       "      <td>a</td>\n",
       "      <td>a</td>\n",
       "      <td>a</td>\n",
       "      <td>a</td>\n",
       "    </tr>\n",
       "    <tr>\n",
       "      <th>68</th>\n",
       "      <td>Lloyd</td>\n",
       "      <td>Garmadon</td>\n",
       "      <td>a</td>\n",
       "      <td>a</td>\n",
       "      <td>a</td>\n",
       "      <td>a</td>\n",
       "      <td>a</td>\n",
       "      <td>a</td>\n",
       "      <td>a</td>\n",
       "      <td>a</td>\n",
       "      <td>a</td>\n",
       "      <td>a</td>\n",
       "      <td>a</td>\n",
       "      <td>a</td>\n",
       "      <td>a</td>\n",
       "    </tr>\n",
       "  </tbody>\n",
       "</table>\n",
       "</div>"
      ],
      "text/plain": [
       "        word_0       word_1    word_2 word_3 word_4 word_5 word_6 word_7  \\\n",
       "6205    Pirate         Ship         a      a      a      a      a      a   \n",
       "10249  Ninjago  Promotional  Giveaway      a      a      a      a      a   \n",
       "8268     Green      Cruiser         a      a      a      a      a      a   \n",
       "8113   ARC-170  Starfighter         a      a      a      a      a      a   \n",
       "68       Lloyd     Garmadon         a      a      a      a      a      a   \n",
       "\n",
       "      word_8 word_9 word_10 word_11 word_12 word_13 word_14  \n",
       "6205       a      a       a       a       a       a       a  \n",
       "10249      a      a       a       a       a       a       a  \n",
       "8268       a      a       a       a       a       a       a  \n",
       "8113       a      a       a       a       a       a       a  \n",
       "68         a      a       a       a       a       a       a  "
      ]
     },
     "execution_count": 304,
     "metadata": {},
     "output_type": "execute_result"
    }
   ],
   "source": [
    "# Create dataframe with a row for each word in each set name:\n",
    "words = pd.DataFrame(columns=['word_0','word_1','word_2','word_3','word_4','word_5','word_6','word_7','word_8','word_9','word_10','word_11','word_12','word_13','word_14'])\n",
    "words[['word_0','word_1','word_2','word_3','word_4','word_5','word_6','word_7','word_8','word_9','word_10','word_11','word_12','word_13','word_14']] = norm_lego['Set Name'].str.split(' ', None, expand=True)\n",
    "words.fillna('a', inplace=True)\n",
    "words.sample(5)"
   ]
  },
  {
   "cell_type": "code",
   "execution_count": 314,
   "metadata": {},
   "outputs": [
    {
     "data": {
      "text/html": [
       "<div>\n",
       "<style scoped>\n",
       "    .dataframe tbody tr th:only-of-type {\n",
       "        vertical-align: middle;\n",
       "    }\n",
       "\n",
       "    .dataframe tbody tr th {\n",
       "        vertical-align: top;\n",
       "    }\n",
       "\n",
       "    .dataframe thead th {\n",
       "        text-align: right;\n",
       "    }\n",
       "</style>\n",
       "<table border=\"1\" class=\"dataframe\">\n",
       "  <thead>\n",
       "    <tr style=\"text-align: right;\">\n",
       "      <th></th>\n",
       "      <th>word_0</th>\n",
       "      <th>word_1</th>\n",
       "      <th>word_2</th>\n",
       "      <th>word_3</th>\n",
       "      <th>word_4</th>\n",
       "      <th>word_5</th>\n",
       "      <th>word_6</th>\n",
       "      <th>word_7</th>\n",
       "      <th>word_8</th>\n",
       "      <th>word_9</th>\n",
       "      <th>word_10</th>\n",
       "      <th>word_11</th>\n",
       "      <th>word_12</th>\n",
       "      <th>word_13</th>\n",
       "      <th>word_14</th>\n",
       "    </tr>\n",
       "  </thead>\n",
       "  <tbody>\n",
       "    <tr>\n",
       "      <th>4</th>\n",
       "      <td>641</td>\n",
       "      <td>715</td>\n",
       "      <td>289</td>\n",
       "      <td>149</td>\n",
       "      <td>30</td>\n",
       "      <td>69</td>\n",
       "      <td>188</td>\n",
       "      <td>188</td>\n",
       "      <td>158</td>\n",
       "      <td>149</td>\n",
       "      <td>87</td>\n",
       "      <td>31</td>\n",
       "      <td>6</td>\n",
       "      <td>1</td>\n",
       "      <td>0</td>\n",
       "    </tr>\n",
       "    <tr>\n",
       "      <th>8</th>\n",
       "      <td>693</td>\n",
       "      <td>535</td>\n",
       "      <td>452</td>\n",
       "      <td>249</td>\n",
       "      <td>132</td>\n",
       "      <td>98</td>\n",
       "      <td>188</td>\n",
       "      <td>188</td>\n",
       "      <td>158</td>\n",
       "      <td>149</td>\n",
       "      <td>87</td>\n",
       "      <td>31</td>\n",
       "      <td>6</td>\n",
       "      <td>1</td>\n",
       "      <td>0</td>\n",
       "    </tr>\n",
       "    <tr>\n",
       "      <th>10</th>\n",
       "      <td>712</td>\n",
       "      <td>36</td>\n",
       "      <td>353</td>\n",
       "      <td>249</td>\n",
       "      <td>132</td>\n",
       "      <td>98</td>\n",
       "      <td>188</td>\n",
       "      <td>188</td>\n",
       "      <td>158</td>\n",
       "      <td>149</td>\n",
       "      <td>87</td>\n",
       "      <td>31</td>\n",
       "      <td>6</td>\n",
       "      <td>1</td>\n",
       "      <td>0</td>\n",
       "    </tr>\n",
       "    <tr>\n",
       "      <th>11</th>\n",
       "      <td>710</td>\n",
       "      <td>297</td>\n",
       "      <td>456</td>\n",
       "      <td>217</td>\n",
       "      <td>72</td>\n",
       "      <td>43</td>\n",
       "      <td>149</td>\n",
       "      <td>188</td>\n",
       "      <td>158</td>\n",
       "      <td>149</td>\n",
       "      <td>87</td>\n",
       "      <td>31</td>\n",
       "      <td>6</td>\n",
       "      <td>1</td>\n",
       "      <td>0</td>\n",
       "    </tr>\n",
       "  </tbody>\n",
       "</table>\n",
       "</div>"
      ],
      "text/plain": [
       "    word_0  word_1  word_2  word_3  word_4  word_5  word_6  word_7  word_8  \\\n",
       "4      641     715     289     149      30      69     188     188     158   \n",
       "8      693     535     452     249     132      98     188     188     158   \n",
       "10     712      36     353     249     132      98     188     188     158   \n",
       "11     710     297     456     217      72      43     149     188     158   \n",
       "\n",
       "    word_9  word_10  word_11  word_12  word_13  word_14  \n",
       "4      149       87       31        6        1        0  \n",
       "8      149       87       31        6        1        0  \n",
       "10     149       87       31        6        1        0  \n",
       "11     149       87       31        6        1        0  "
      ]
     },
     "execution_count": 314,
     "metadata": {},
     "output_type": "execute_result"
    }
   ],
   "source": [
    "# Encode each of the word values to a unique integer:\n",
    "from sklearn import preprocessing\n",
    "\n",
    "def encode_labels(df, col):\n",
    "    le = preprocessing.LabelEncoder()\n",
    "    le.fit(df[col])\n",
    "    df[col] = le.transform(df[col])\n",
    "\n",
    "for col in words:\n",
    "    encode_labels(words, col)\n",
    "    \n",
    "words.head(4)"
   ]
  },
  {
   "cell_type": "code",
   "execution_count": 315,
   "metadata": {},
   "outputs": [
    {
     "data": {
      "text/html": [
       "<div>\n",
       "<style scoped>\n",
       "    .dataframe tbody tr th:only-of-type {\n",
       "        vertical-align: middle;\n",
       "    }\n",
       "\n",
       "    .dataframe tbody tr th {\n",
       "        vertical-align: top;\n",
       "    }\n",
       "\n",
       "    .dataframe thead th {\n",
       "        text-align: right;\n",
       "    }\n",
       "</style>\n",
       "<table border=\"1\" class=\"dataframe\">\n",
       "  <thead>\n",
       "    <tr style=\"text-align: right;\">\n",
       "      <th></th>\n",
       "      <th>word_0</th>\n",
       "      <th>word_1</th>\n",
       "      <th>word_2</th>\n",
       "      <th>word_3</th>\n",
       "      <th>word_4</th>\n",
       "      <th>word_5</th>\n",
       "      <th>word_6</th>\n",
       "      <th>word_7</th>\n",
       "      <th>word_8</th>\n",
       "      <th>word_9</th>\n",
       "      <th>...</th>\n",
       "      <th>Unknown</th>\n",
       "      <th>Very Light Bluish Gray</th>\n",
       "      <th>Very Light Gray</th>\n",
       "      <th>Very Light Orange</th>\n",
       "      <th>Violet</th>\n",
       "      <th>White</th>\n",
       "      <th>Yellow</th>\n",
       "      <th>Yellowish Green</th>\n",
       "      <th>Year</th>\n",
       "      <th>Num Parts</th>\n",
       "    </tr>\n",
       "  </thead>\n",
       "  <tbody>\n",
       "    <tr>\n",
       "      <th>636</th>\n",
       "      <td>746</td>\n",
       "      <td>519</td>\n",
       "      <td>237</td>\n",
       "      <td>249</td>\n",
       "      <td>132</td>\n",
       "      <td>98</td>\n",
       "      <td>188</td>\n",
       "      <td>188</td>\n",
       "      <td>158</td>\n",
       "      <td>149</td>\n",
       "      <td>...</td>\n",
       "      <td>0.0</td>\n",
       "      <td>0.0</td>\n",
       "      <td>0.0</td>\n",
       "      <td>0.0</td>\n",
       "      <td>0.0</td>\n",
       "      <td>0.052632</td>\n",
       "      <td>0.0</td>\n",
       "      <td>0.0</td>\n",
       "      <td>2014</td>\n",
       "      <td>145</td>\n",
       "    </tr>\n",
       "    <tr>\n",
       "      <th>8804</th>\n",
       "      <td>266</td>\n",
       "      <td>699</td>\n",
       "      <td>307</td>\n",
       "      <td>249</td>\n",
       "      <td>132</td>\n",
       "      <td>98</td>\n",
       "      <td>188</td>\n",
       "      <td>188</td>\n",
       "      <td>158</td>\n",
       "      <td>149</td>\n",
       "      <td>...</td>\n",
       "      <td>0.0</td>\n",
       "      <td>0.0</td>\n",
       "      <td>0.0</td>\n",
       "      <td>0.0</td>\n",
       "      <td>0.0</td>\n",
       "      <td>0.250000</td>\n",
       "      <td>0.0</td>\n",
       "      <td>0.0</td>\n",
       "      <td>2015</td>\n",
       "      <td>16</td>\n",
       "    </tr>\n",
       "    <tr>\n",
       "      <th>7303</th>\n",
       "      <td>48</td>\n",
       "      <td>126</td>\n",
       "      <td>35</td>\n",
       "      <td>203</td>\n",
       "      <td>124</td>\n",
       "      <td>2</td>\n",
       "      <td>38</td>\n",
       "      <td>2</td>\n",
       "      <td>148</td>\n",
       "      <td>45</td>\n",
       "      <td>...</td>\n",
       "      <td>0.0</td>\n",
       "      <td>0.0</td>\n",
       "      <td>0.0</td>\n",
       "      <td>0.0</td>\n",
       "      <td>0.0</td>\n",
       "      <td>0.000000</td>\n",
       "      <td>0.0</td>\n",
       "      <td>0.0</td>\n",
       "      <td>2012</td>\n",
       "      <td>9</td>\n",
       "    </tr>\n",
       "  </tbody>\n",
       "</table>\n",
       "<p>3 rows × 148 columns</p>\n",
       "</div>"
      ],
      "text/plain": [
       "      word_0  word_1  word_2  word_3  word_4  word_5  word_6  word_7  word_8  \\\n",
       "636      746     519     237     249     132      98     188     188     158   \n",
       "8804     266     699     307     249     132      98     188     188     158   \n",
       "7303      48     126      35     203     124       2      38       2     148   \n",
       "\n",
       "      word_9    ...      Unknown  Very Light Bluish Gray  Very Light Gray  \\\n",
       "636      149    ...          0.0                     0.0              0.0   \n",
       "8804     149    ...          0.0                     0.0              0.0   \n",
       "7303      45    ...          0.0                     0.0              0.0   \n",
       "\n",
       "      Very Light Orange  Violet     White  Yellow  Yellowish Green  Year  \\\n",
       "636                 0.0     0.0  0.052632     0.0              0.0  2014   \n",
       "8804                0.0     0.0  0.250000     0.0              0.0  2015   \n",
       "7303                0.0     0.0  0.000000     0.0              0.0  2012   \n",
       "\n",
       "      Num Parts  \n",
       "636         145  \n",
       "8804         16  \n",
       "7303          9  \n",
       "\n",
       "[3 rows x 148 columns]"
      ]
     },
     "execution_count": 315,
     "metadata": {},
     "output_type": "execute_result"
    }
   ],
   "source": [
    "# Concatenate the encoded word values on the normalized lego data, with certain columns removed:\n",
    "lego_data = pd.concat([words, norm_lego.drop(columns=['Set Name', 'Set Num', 'Theme'])], axis=1)\n",
    "lego_data.sample(3)"
   ]
  },
  {
   "cell_type": "code",
   "execution_count": 328,
   "metadata": {},
   "outputs": [],
   "source": [
    "from sklearn.model_selection import train_test_split\n",
    "\n",
    "color_train, color_test, theme_train, theme_test = sk.model_selection.train_test_split(\n",
    "    lego_data, norm_lego['Theme'], test_size=0.4, random_state=0)\n"
   ]
  },
  {
   "cell_type": "code",
   "execution_count": 324,
   "metadata": {},
   "outputs": [],
   "source": [
    "from sklearn.ensemble import RandomForestClassifier"
   ]
  },
  {
   "cell_type": "markdown",
   "metadata": {},
   "source": [
    "### Preliminary testing indicated that there was a local minima between 1500 and 2000, so I figured I'd locate it via brute force:"
   ]
  },
  {
   "cell_type": "code",
   "execution_count": 462,
   "metadata": {},
   "outputs": [
    {
     "name": "stdout",
     "output_type": "stream",
     "text": [
      "(0.8865023615584997, 1860)\n"
     ]
    }
   ],
   "source": [
    "# max_f1 = (f1, n_estimators)\n",
    "max_f1 = (0,0)\n",
    "for i in range(1500,2000):\n",
    "    rfc = RandomForestClassifier(n_estimators=i, min_samples_split=2, min_samples_leaf=1,\n",
    "                                 max_features='log2', max_depth=None, bootstrap=False,\n",
    "                                 random_state=0)\n",
    "    lego_rfc = rfc.fit(color_train, theme_train)\n",
    "    lego_rfc_predictions = lego_rfc.predict(color_test)\n",
    "    curr = skm.f1_score(y_true=theme_test,\n",
    "                    y_pred=lego_rfc_predictions,\n",
    "                    average='weighted')\n",
    "    if curr > max_f1[0]:\n",
    "        max_f1 = (curr, i)\n",
    "print(max_f1)"
   ]
  },
  {
   "cell_type": "markdown",
   "metadata": {},
   "source": [
    "### After finding the local minima, I figured I should perform an exploration of seed variance on f1 score:"
   ]
  },
  {
   "cell_type": "code",
   "execution_count": 463,
   "metadata": {},
   "outputs": [
    {
     "name": "stdout",
     "output_type": "stream",
     "text": [
      "(0.8924349368890329, 1)\n"
     ]
    }
   ],
   "source": [
    "max_f1 = (0,0)\n",
    "for i in range(0,10):\n",
    "    rfc = RandomForestClassifier(n_estimators=1860, min_samples_split=2, min_samples_leaf=1,\n",
    "                             max_features='log2', max_depth=None, bootstrap=False,\n",
    "                             random_state=i)\n",
    "    lego_rfc = rfc.fit(color_train, theme_train)\n",
    "    lego_rfc_predictions = lego_rfc.predict(color_test)\n",
    "    curr = skm.f1_score(y_true=theme_test,\n",
    "                    y_pred=lego_rfc_predictions,\n",
    "                    average='weighted')\n",
    "    if curr > max_f1[0]:\n",
    "        max_f1 = (curr, i)\n",
    "print(max_f1)"
   ]
  },
  {
   "cell_type": "markdown",
   "metadata": {},
   "source": [
    "### Experimented with random seeds:"
   ]
  },
  {
   "cell_type": "code",
   "execution_count": null,
   "metadata": {},
   "outputs": [],
   "source": [
    "max_f1 = (0,0)\n",
    "for i in range(0,700):\n",
    "    r = np.random.randint(10000)\n",
    "    rfc = RandomForestClassifier(n_estimators=1880, min_samples_split=2, min_samples_leaf=1,\n",
    "                             max_features='log2', max_depth=None, bootstrap=False,\n",
    "                             random_state=r)\n",
    "    lego_rfc = rfc.fit(color_train, theme_train)\n",
    "    lego_rfc_predictions = lego_rfc.predict(color_test)\n",
    "    curr = skm.f1_score(y_true=theme_test,\n",
    "                    y_pred=lego_rfc_predictions,\n",
    "                    average='weighted')\n",
    "    if curr > max_f1[0]:\n",
    "        max_f1 = (curr, r)\n",
    "print(max_f1)"
   ]
  },
  {
   "cell_type": "markdown",
   "metadata": {},
   "source": [
    "### Final Random Forest:"
   ]
  },
  {
   "cell_type": "code",
   "execution_count": 486,
   "metadata": {},
   "outputs": [],
   "source": [
    "rfc = RandomForestClassifier(n_estimators=1880, min_samples_split=2, min_samples_leaf=1,\n",
    "                             max_features='log2', max_depth=None, bootstrap=False,\n",
    "                             random_state=11)\n",
    "\n",
    "lego_rfc = rfc.fit(color_train, theme_train)\n",
    "lego_rfc_predictions = lego_rfc.predict(color_test)    "
   ]
  },
  {
   "cell_type": "code",
   "execution_count": 487,
   "metadata": {},
   "outputs": [],
   "source": [
    "lego_rfc = rfc.fit(color_train, theme_train)\n",
    "lego_rfc_predictions = lego_rfc.predict(color_test)"
   ]
  },
  {
   "cell_type": "code",
   "execution_count": 488,
   "metadata": {
    "scrolled": true
   },
   "outputs": [
    {
     "data": {
      "text/plain": [
       "0.8939407700922986"
      ]
     },
     "execution_count": 488,
     "metadata": {},
     "output_type": "execute_result"
    }
   ],
   "source": [
    "skm.f1_score(y_true=theme_test,\n",
    "                    y_pred=lego_rfc_predictions,\n",
    "                    average='weighted')"
   ]
  },
  {
   "cell_type": "code",
   "execution_count": 285,
   "metadata": {},
   "outputs": [
    {
     "data": {
      "text/plain": [
       "0.7594142259414226"
      ]
     },
     "execution_count": 285,
     "metadata": {},
     "output_type": "execute_result"
    }
   ],
   "source": [
    "skm.accuracy_score(y_true=theme_test,\n",
    "                   y_pred=lego_rfc_predictions)"
   ]
  },
  {
   "cell_type": "code",
   "execution_count": 286,
   "metadata": {},
   "outputs": [
    {
     "data": {
      "text/plain": [
       "0.7607629300787762"
      ]
     },
     "execution_count": 286,
     "metadata": {},
     "output_type": "execute_result"
    }
   ],
   "source": [
    "skm.precision_score(y_true=theme_test,\n",
    "                    y_pred=lego_rfc_predictions,\n",
    "                    average='weighted')"
   ]
  },
  {
   "cell_type": "code",
   "execution_count": 287,
   "metadata": {},
   "outputs": [
    {
     "data": {
      "text/plain": [
       "0.7594142259414226"
      ]
     },
     "execution_count": 287,
     "metadata": {},
     "output_type": "execute_result"
    }
   ],
   "source": [
    "skm.recall_score(y_true=theme_test,\n",
    "                    y_pred=lego_rfc_predictions,\n",
    "                    average='weighted')"
   ]
  },
  {
   "cell_type": "code",
   "execution_count": 166,
   "metadata": {},
   "outputs": [
    {
     "data": {
      "text/plain": [
       "Text(0.5,1,'Confusion Matrix')"
      ]
     },
     "execution_count": 166,
     "metadata": {},
     "output_type": "execute_result"
    },
    {
     "data": {
      "image/png": "[encoded data removed]",
      "text/plain": [
       "<matplotlib.figure.Figure at 0x1194b0048>"
      ]
     },
     "metadata": {},
     "output_type": "display_data"
    }
   ],
   "source": [
    "lego_rfc_cfmat = skm.confusion_matrix(\n",
    "    y_true=theme_test,\n",
    "    y_pred=lego_rfc_predictions)\n",
    "\n",
    "plt.subplots(figsize=(16,8))         # Sample figsize in inches\n",
    "\n",
    "sns.heatmap(lego_rfc_cfmat, \n",
    "            xticklabels=lego_rfc.classes_,\n",
    "            yticklabels=lego_rfc.classes_,\n",
    "            annot=True,\n",
    "            cmap='YlGnBu',\n",
    "            fmt='g')\n",
    "plt.xlabel('Predicted Label')\n",
    "plt.ylabel('True Label')\n",
    "plt.title('Confusion Matrix')"
   ]
  },
  {
   "cell_type": "markdown",
   "metadata": {},
   "source": [
    "## Neural Network"
   ]
  },
  {
   "cell_type": "code",
   "execution_count": 373,
   "metadata": {},
   "outputs": [],
   "source": [
    "from sklearn.neural_network import MLPClassifier"
   ]
  },
  {
   "cell_type": "code",
   "execution_count": 380,
   "metadata": {},
   "outputs": [],
   "source": [
    "nn = MLPClassifier(hidden_layer_sizes=(100), max_iter=1000)"
   ]
  },
  {
   "cell_type": "code",
   "execution_count": 390,
   "metadata": {},
   "outputs": [],
   "source": [
    "lego_nn = nn.fit(color_train, theme_train)\n",
    "lego_nn_predictions = lego_nn.predict(color_test)"
   ]
  },
  {
   "cell_type": "code",
   "execution_count": 382,
   "metadata": {},
   "outputs": [
    {
     "data": {
      "text/plain": [
       "0.24006730730565198"
      ]
     },
     "execution_count": 382,
     "metadata": {},
     "output_type": "execute_result"
    }
   ],
   "source": [
    "skm.f1_score(y_true=theme_test,\n",
    "                    y_pred=lego_nn_predictions,\n",
    "                    average='weighted')"
   ]
  },
  {
   "cell_type": "code",
   "execution_count": 391,
   "metadata": {},
   "outputs": [
    {
     "data": {
      "text/plain": [
       "0.2792887029288703"
      ]
     },
     "execution_count": 391,
     "metadata": {},
     "output_type": "execute_result"
    }
   ],
   "source": [
    "skm.accuracy_score(y_true=theme_test,\n",
    "                   y_pred=lego_nn_predictions)"
   ]
  },
  {
   "cell_type": "code",
   "execution_count": 43,
   "metadata": {},
   "outputs": [
    {
     "data": {
      "text/plain": [
       "0.7243257595104456"
      ]
     },
     "execution_count": 43,
     "metadata": {},
     "output_type": "execute_result"
    }
   ],
   "source": [
    "skm.precision_score(y_true=theme_test,\n",
    "                    y_pred=lego_nn_predictions,\n",
    "                    average='weighted')"
   ]
  },
  {
   "cell_type": "code",
   "execution_count": 44,
   "metadata": {},
   "outputs": [
    {
     "data": {
      "text/plain": [
       "0.7322175732217573"
      ]
     },
     "execution_count": 44,
     "metadata": {},
     "output_type": "execute_result"
    }
   ],
   "source": [
    "skm.recall_score(y_true=theme_test,\n",
    "                    y_pred=lego_nn_predictions,\n",
    "                    average='weighted')"
   ]
  },
  {
   "cell_type": "code",
   "execution_count": 46,
   "metadata": {},
   "outputs": [
    {
     "data": {
      "text/plain": [
       "Text(0.5,1,'Confusion Matrix')"
      ]
     },
     "execution_count": 46,
     "metadata": {},
     "output_type": "execute_result"
    },
    {
     "data": {
      "image/png": "[encoded data removed]",
      "text/plain": [
       "<matplotlib.figure.Figure at 0x114d18860>"
      ]
     },
     "metadata": {},
     "output_type": "display_data"
    }
   ],
   "source": [
    "lego_nn_cfmat = skm.confusion_matrix(\n",
    "    y_true=theme_test,\n",
    "    y_pred=lego_nn_predictions)\n",
    "\n",
    "fig, ax = plt.subplots(figsize=(16,8))         # Sample figsize in inches\n",
    "\n",
    "sns.heatmap(lego_nn_cfmat, \n",
    "            xticklabels=lego_nn.classes_,\n",
    "            yticklabels=lego_nn.classes_,\n",
    "            annot=True,\n",
    "            ax=ax,\n",
    "            fmt='g')\n",
    "plt.xlabel('Predicted Label')\n",
    "plt.ylabel('True Label')\n",
    "plt.title('Confusion Matrix')"
   ]
  },
  {
   "cell_type": "markdown",
   "metadata": {},
   "source": [
    "# Voting Classifier Approach"
   ]
  },
  {
   "cell_type": "code",
   "execution_count": 249,
   "metadata": {},
   "outputs": [],
   "source": [
    "from sklearn.neighbors import KNeighborsClassifier\n",
    "from sklearn.naive_bayes import GaussianNB\n",
    "from sklearn.tree import DecisionTreeClassifier\n",
    "from sklearn.ensemble import RandomForestClassifier, VotingClassifier\n",
    "from sklearn.neural_network import MLPClassifier\n",
    "from sklearn.linear_model import LogisticRegression\n",
    "\n",
    "#clf1 = KNeighborsClassifier(n_neighbors=4)\n",
    "#clf2 = RandomForestClassifier(n_estimators=3000, criterion='gini', random_state=0, n_jobs=-1)\n",
    "#clf3 = MLPClassifier(hidden_layer_sizes=(200,100,50,20,2), max_iter=1000)\n",
    "#clf4 = LogisticRegression()\n",
    "#eclf = VotingClassifier(estimators=[('knn', clf1), ('rf', clf2), ('mlp', clf3), ('lr', clf4)],\n",
    "#                        voting='soft',\n",
    "#                        weights=[1,10,1,1])\n",
    "\n",
    "clf1 = KNeighborsClassifier(n_neighbors=4)\n",
    "clf2 = RandomForestClassifier(n_estimators=3000, criterion='gini', random_state=0, n_jobs=-1)\n",
    "clf3 = MLPClassifier(hidden_layer_sizes=(200,100,50,20,2), max_iter=1000)\n",
    "clf4 = LogisticRegression()\n",
    "eclf1 = VotingClassifier(estimators=[('knn', clf1), ('rf', clf2), ('mlp', clf3), ('lr', clf4)],\n",
    "                        voting='soft',\n",
    "                        weights=[1,10,1,1])"
   ]
  },
  {
   "cell_type": "code",
   "execution_count": 250,
   "metadata": {},
   "outputs": [],
   "source": [
    "lego_ens1 = eclf1.fit(color_train, theme_train)\n",
    "lego_ens1_pred = lego_ens1.predict(color_test)"
   ]
  },
  {
   "cell_type": "code",
   "execution_count": 251,
   "metadata": {},
   "outputs": [
    {
     "data": {
      "text/plain": [
       "0.7657607071023562"
      ]
     },
     "execution_count": 251,
     "metadata": {},
     "output_type": "execute_result"
    }
   ],
   "source": [
    "skm.f1_score(y_true=theme_test,\n",
    "                    y_pred=lego_ens1_pred,\n",
    "                    average='weighted')"
   ]
  },
  {
   "cell_type": "code",
   "execution_count": 252,
   "metadata": {},
   "outputs": [],
   "source": [
    "clf5 = MLPClassifier(hidden_layer_sizes=(100,50), max_iter=1000, activation='logistic', solver='lbfgs')\n",
    "clf6 = MLPClassifier(hidden_layer_sizes=(100,50), max_iter=1000, activation='relu', solver='lbfgs')\n",
    "clf7 = MLPClassifier(hidden_layer_sizes=(100,50), max_iter=1000, activation='tanh', solver='lbfgs')\n",
    "eclf2 = VotingClassifier(estimators=[('nn1', clf5), ('nn2', clf6), ('nn3', clf7)])"
   ]
  },
  {
   "cell_type": "code",
   "execution_count": 253,
   "metadata": {},
   "outputs": [
    {
     "data": {
      "text/plain": [
       "0.6878416614931148"
      ]
     },
     "execution_count": 253,
     "metadata": {},
     "output_type": "execute_result"
    }
   ],
   "source": [
    "lego_ens2 = eclf2.fit(color_train, theme_train)\n",
    "lego_ens2_pred = lego_ens2.predict(color_test)\n",
    "skm.f1_score(y_true=theme_test,\n",
    "                    y_pred=lego_ens2_pred,\n",
    "                    average='weighted')"
   ]
  },
  {
   "cell_type": "markdown",
   "metadata": {},
   "source": [
    "### Activation Function Comparison"
   ]
  },
  {
   "cell_type": "code",
   "execution_count": 267,
   "metadata": {},
   "outputs": [],
   "source": [
    "lego_clf5 = clf5.fit(color_train, theme_train)\n",
    "lego_clf6 = clf6.fit(color_train, theme_train)\n",
    "lego_clf7 = clf7.fit(color_train, theme_train)"
   ]
  },
  {
   "cell_type": "code",
   "execution_count": 268,
   "metadata": {},
   "outputs": [],
   "source": [
    "lego_clf5_pred = lego_clf5.predict(color_test)\n",
    "lego_clf6_pred = lego_clf6.predict(color_test)\n",
    "lego_clf7_pred = lego_clf7.predict(color_test)"
   ]
  },
  {
   "cell_type": "code",
   "execution_count": 269,
   "metadata": {},
   "outputs": [
    {
     "data": {
      "text/plain": [
       "0.6664257370574811"
      ]
     },
     "execution_count": 269,
     "metadata": {},
     "output_type": "execute_result"
    }
   ],
   "source": [
    "# sigmoid\n",
    "skm.f1_score(y_true=theme_test,\n",
    "                    y_pred=lego_clf5_pred,\n",
    "                    average='weighted')"
   ]
  },
  {
   "cell_type": "code",
   "execution_count": 270,
   "metadata": {},
   "outputs": [
    {
     "data": {
      "text/plain": [
       "0.7000264422988269"
      ]
     },
     "execution_count": 270,
     "metadata": {},
     "output_type": "execute_result"
    }
   ],
   "source": [
    "# relu\n",
    "skm.f1_score(y_true=theme_test,\n",
    "                    y_pred=lego_clf6_pred,\n",
    "                    average='weighted')"
   ]
  },
  {
   "cell_type": "code",
   "execution_count": 271,
   "metadata": {
    "scrolled": true
   },
   "outputs": [
    {
     "data": {
      "text/plain": [
       "0.6848503311915234"
      ]
     },
     "execution_count": 271,
     "metadata": {},
     "output_type": "execute_result"
    }
   ],
   "source": [
    "# tanh\n",
    "skm.f1_score(y_true=theme_test,\n",
    "                    y_pred=lego_clf7_pred,\n",
    "                    average='weighted')"
   ]
  },
  {
   "cell_type": "markdown",
   "metadata": {},
   "source": [
    "*relu consistently outperforms sigmoid (logistic) and tanh*"
   ]
  },
  {
   "cell_type": "code",
   "execution_count": 281,
   "metadata": {},
   "outputs": [
    {
     "data": {
      "text/plain": [
       "0.7055482602346475"
      ]
     },
     "execution_count": 281,
     "metadata": {},
     "output_type": "execute_result"
    }
   ],
   "source": [
    "nn_relu = MLPClassifier(hidden_layer_sizes=(1000,500), max_iter=1000, activation='relu', solver='lbfgs')\n",
    "lego_nn_relu = nn_relu.fit(color_train, theme_train)\n",
    "lego_nn_relu_pred = lego_nn_relu.predict(color_test)\n",
    "skm.f1_score(y_true=theme_test,\n",
    "                    y_pred=lego_nn_relu_pred,\n",
    "                    average='weighted')"
   ]
  },
  {
   "cell_type": "code",
   "execution_count": null,
   "metadata": {},
   "outputs": [],
   "source": []
  },
  {
   "cell_type": "code",
   "execution_count": null,
   "metadata": {},
   "outputs": [],
   "source": []
  },
  {
   "cell_type": "code",
   "execution_count": null,
   "metadata": {},
   "outputs": [],
   "source": []
  }
 ],
 "metadata": {
  "kernelspec": {
   "display_name": "Python 3",
   "language": "python",
   "name": "python3"
  },
  "language_info": {
   "codemirror_mode": {
    "name": "ipython",
    "version": 3
   },
   "file_extension": ".py",
   "mimetype": "text/x-python",
   "name": "python",
   "nbconvert_exporter": "python",
   "pygments_lexer": "ipython3",
   "version": "3.6.4"
  }
 },
 "nbformat": 4,
 "nbformat_minor": 2
}
