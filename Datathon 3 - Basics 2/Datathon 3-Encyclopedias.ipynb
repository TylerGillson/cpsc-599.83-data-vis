{
 "cells": [
  {
   "cell_type": "code",
   "execution_count": 2,
   "metadata": {},
   "outputs": [
    {
     "name": "stdout",
     "output_type": "stream",
     "text": [
      "Using matplotlib backend: MacOSX\n",
      "Populating the interactive namespace from numpy and matplotlib\n"
     ]
    }
   ],
   "source": [
    "import numpy as np  #load up the libraries and object defs. we need\n",
    "import pandas as pd\n",
    "from pandas import DataFrame, Series\n",
    "\n",
    "# load up my visualization system, and call the object plt\n",
    "import matplotlib.pyplot as plt\n",
    "\n",
    "# tell ipython notebook to print visualizations inline\n",
    "%pylab\n",
    "%matplotlib inline"
   ]
  },
  {
   "cell_type": "markdown",
   "metadata": {},
   "source": [
    "For the Encyclopedia Sales dataset, "
   ]
  },
  {
   "cell_type": "code",
   "execution_count": 3,
   "metadata": {},
   "outputs": [
    {
     "data": {
      "text/html": [
       "<div>\n",
       "<style scoped>\n",
       "    .dataframe tbody tr th:only-of-type {\n",
       "        vertical-align: middle;\n",
       "    }\n",
       "\n",
       "    .dataframe tbody tr th {\n",
       "        vertical-align: top;\n",
       "    }\n",
       "\n",
       "    .dataframe thead th {\n",
       "        text-align: right;\n",
       "    }\n",
       "</style>\n",
       "<table border=\"1\" class=\"dataframe\">\n",
       "  <thead>\n",
       "    <tr style=\"text-align: right;\">\n",
       "      <th></th>\n",
       "      <th>Seller 1</th>\n",
       "      <th>Seller 2</th>\n",
       "      <th>Seller 3</th>\n",
       "      <th>Seller 4</th>\n",
       "      <th>Seller 5</th>\n",
       "      <th>Seller 6</th>\n",
       "    </tr>\n",
       "    <tr>\n",
       "      <th>day</th>\n",
       "      <th></th>\n",
       "      <th></th>\n",
       "      <th></th>\n",
       "      <th></th>\n",
       "      <th></th>\n",
       "      <th></th>\n",
       "    </tr>\n",
       "  </thead>\n",
       "  <tbody>\n",
       "    <tr>\n",
       "      <th>19</th>\n",
       "      <td>149</td>\n",
       "      <td>215</td>\n",
       "      <td>43</td>\n",
       "      <td>63</td>\n",
       "      <td>62</td>\n",
       "      <td>72</td>\n",
       "    </tr>\n",
       "    <tr>\n",
       "      <th>25</th>\n",
       "      <td>94</td>\n",
       "      <td>95</td>\n",
       "      <td>67</td>\n",
       "      <td>21</td>\n",
       "      <td>54</td>\n",
       "      <td>41</td>\n",
       "    </tr>\n",
       "    <tr>\n",
       "      <th>27</th>\n",
       "      <td>271</td>\n",
       "      <td>176</td>\n",
       "      <td>250</td>\n",
       "      <td>35</td>\n",
       "      <td>48</td>\n",
       "      <td>24</td>\n",
       "    </tr>\n",
       "    <tr>\n",
       "      <th>7</th>\n",
       "      <td>42</td>\n",
       "      <td>249</td>\n",
       "      <td>26</td>\n",
       "      <td>77</td>\n",
       "      <td>672</td>\n",
       "      <td>45</td>\n",
       "    </tr>\n",
       "    <tr>\n",
       "      <th>18</th>\n",
       "      <td>43</td>\n",
       "      <td>290</td>\n",
       "      <td>89</td>\n",
       "      <td>446</td>\n",
       "      <td>57</td>\n",
       "      <td>226</td>\n",
       "    </tr>\n",
       "    <tr>\n",
       "      <th>15</th>\n",
       "      <td>75</td>\n",
       "      <td>34</td>\n",
       "      <td>184</td>\n",
       "      <td>35</td>\n",
       "      <td>299</td>\n",
       "      <td>205</td>\n",
       "    </tr>\n",
       "    <tr>\n",
       "      <th>4</th>\n",
       "      <td>322</td>\n",
       "      <td>54</td>\n",
       "      <td>89</td>\n",
       "      <td>44</td>\n",
       "      <td>67</td>\n",
       "      <td>886</td>\n",
       "    </tr>\n",
       "    <tr>\n",
       "      <th>11</th>\n",
       "      <td>202</td>\n",
       "      <td>504</td>\n",
       "      <td>101</td>\n",
       "      <td>205</td>\n",
       "      <td>682</td>\n",
       "      <td>134</td>\n",
       "    </tr>\n",
       "    <tr>\n",
       "      <th>21</th>\n",
       "      <td>81</td>\n",
       "      <td>127</td>\n",
       "      <td>47</td>\n",
       "      <td>68</td>\n",
       "      <td>315</td>\n",
       "      <td>566</td>\n",
       "    </tr>\n",
       "    <tr>\n",
       "      <th>26</th>\n",
       "      <td>159</td>\n",
       "      <td>125</td>\n",
       "      <td>67</td>\n",
       "      <td>263</td>\n",
       "      <td>69</td>\n",
       "      <td>173</td>\n",
       "    </tr>\n",
       "  </tbody>\n",
       "</table>\n",
       "</div>"
      ],
      "text/plain": [
       "     Seller 1  Seller 2  Seller 3  Seller 4  Seller 5  Seller 6\n",
       "day                                                            \n",
       "19        149       215        43        63        62        72\n",
       "25         94        95        67        21        54        41\n",
       "27        271       176       250        35        48        24\n",
       "7          42       249        26        77       672        45\n",
       "18         43       290        89       446        57       226\n",
       "15         75        34       184        35       299       205\n",
       "4         322        54        89        44        67       886\n",
       "11        202       504       101       205       682       134\n",
       "21         81       127        47        68       315       566\n",
       "26        159       125        67       263        69       173"
      ]
     },
     "execution_count": 3,
     "metadata": {},
     "output_type": "execute_result"
    }
   ],
   "source": [
    "df = pd.read_csv('sales.csv')\n",
    "df = df.set_index('day')\n",
    "df.sample(10)"
   ]
  },
  {
   "cell_type": "markdown",
   "metadata": {},
   "source": [
    "# Manually computing confidence intervals\n",
    "\n",
    "We can compute exact confidence intervals using the mean and standard deviation\n",
    "\n",
    "`ci = mean ± (t*std)`\n",
    "\n",
    "Where `t` depends on what confidence interval we want."
   ]
  },
  {
   "cell_type": "code",
   "execution_count": 4,
   "metadata": {},
   "outputs": [],
   "source": [
    "t=1.96 #For 95% CIs"
   ]
  },
  {
   "cell_type": "code",
   "execution_count": 5,
   "metadata": {
    "scrolled": true
   },
   "outputs": [
    {
     "data": {
      "text/plain": [
       "Seller 1    148.766667\n",
       "Seller 2    154.233333\n",
       "Seller 3    121.500000\n",
       "Seller 4    143.233333\n",
       "Seller 5    173.233333\n",
       "Seller 6    194.866667\n",
       "dtype: float64"
      ]
     },
     "execution_count": 5,
     "metadata": {},
     "output_type": "execute_result"
    }
   ],
   "source": [
    "df.mean()"
   ]
  },
  {
   "cell_type": "code",
   "execution_count": 6,
   "metadata": {},
   "outputs": [
    {
     "data": {
      "text/plain": [
       "Seller 1    170.761314\n",
       "Seller 2    186.324093\n",
       "Seller 3     81.269136\n",
       "Seller 4    123.869142\n",
       "Seller 5    196.273856\n",
       "Seller 6    262.876362\n",
       "dtype: float64"
      ]
     },
     "execution_count": 6,
     "metadata": {},
     "output_type": "execute_result"
    }
   ],
   "source": [
    "df.std()"
   ]
  },
  {
   "cell_type": "code",
   "execution_count": 7,
   "metadata": {},
   "outputs": [],
   "source": [
    "sqn=sqrt(len(df))"
   ]
  },
  {
   "cell_type": "code",
   "execution_count": 8,
   "metadata": {},
   "outputs": [
    {
     "data": {
      "text/html": [
       "<div>\n",
       "<style scoped>\n",
       "    .dataframe tbody tr th:only-of-type {\n",
       "        vertical-align: middle;\n",
       "    }\n",
       "\n",
       "    .dataframe tbody tr th {\n",
       "        vertical-align: top;\n",
       "    }\n",
       "\n",
       "    .dataframe thead th {\n",
       "        text-align: right;\n",
       "    }\n",
       "</style>\n",
       "<table border=\"1\" class=\"dataframe\">\n",
       "  <thead>\n",
       "    <tr style=\"text-align: right;\">\n",
       "      <th></th>\n",
       "      <th>ci</th>\n",
       "      <th>mean</th>\n",
       "    </tr>\n",
       "  </thead>\n",
       "  <tbody>\n",
       "    <tr>\n",
       "      <th>Seller 1</th>\n",
       "      <td>61.106152</td>\n",
       "      <td>148.766667</td>\n",
       "    </tr>\n",
       "    <tr>\n",
       "      <th>Seller 2</th>\n",
       "      <td>66.675221</td>\n",
       "      <td>154.233333</td>\n",
       "    </tr>\n",
       "    <tr>\n",
       "      <th>Seller 3</th>\n",
       "      <td>29.081787</td>\n",
       "      <td>121.500000</td>\n",
       "    </tr>\n",
       "    <tr>\n",
       "      <th>Seller 4</th>\n",
       "      <td>44.326003</td>\n",
       "      <td>143.233333</td>\n",
       "    </tr>\n",
       "    <tr>\n",
       "      <th>Seller 5</th>\n",
       "      <td>70.235697</td>\n",
       "      <td>173.233333</td>\n",
       "    </tr>\n",
       "    <tr>\n",
       "      <th>Seller 6</th>\n",
       "      <td>94.069098</td>\n",
       "      <td>194.866667</td>\n",
       "    </tr>\n",
       "  </tbody>\n",
       "</table>\n",
       "</div>"
      ],
      "text/plain": [
       "                 ci        mean\n",
       "Seller 1  61.106152  148.766667\n",
       "Seller 2  66.675221  154.233333\n",
       "Seller 3  29.081787  121.500000\n",
       "Seller 4  44.326003  143.233333\n",
       "Seller 5  70.235697  173.233333\n",
       "Seller 6  94.069098  194.866667"
      ]
     },
     "execution_count": 8,
     "metadata": {},
     "output_type": "execute_result"
    }
   ],
   "source": [
    "cis = DataFrame({'mean':df.mean(), 'ci':t*df.std()/sqn})\n",
    "cis"
   ]
  },
  {
   "cell_type": "code",
   "execution_count": 9,
   "metadata": {},
   "outputs": [
    {
     "data": {
      "text/plain": [
       "<matplotlib.axes._subplots.AxesSubplot at 0x113dbd860>"
      ]
     },
     "execution_count": 9,
     "metadata": {},
     "output_type": "execute_result"
    },
    {
     "data": {
      "image/png": "[encoded data removed]",
      "text/plain": [
       "<matplotlib.figure.Figure at 0x113c2e780>"
      ]
     },
     "metadata": {},
     "output_type": "display_data"
    }
   ],
   "source": [
    "cis.plot(kind=\"bar\", yerr=\"ci\") # y error == \"confidence interval\""
   ]
  },
  {
   "cell_type": "markdown",
   "metadata": {},
   "source": [
    "# Let's check if our data is normally distributed"
   ]
  },
  {
   "cell_type": "markdown",
   "metadata": {},
   "source": [
    "First we pivot the dataframe using the `melt` command to put all of the values into one 'Sales' column. "
   ]
  },
  {
   "cell_type": "code",
   "execution_count": 10,
   "metadata": {
    "scrolled": true
   },
   "outputs": [
    {
     "data": {
      "text/html": [
       "<div>\n",
       "<style scoped>\n",
       "    .dataframe tbody tr th:only-of-type {\n",
       "        vertical-align: middle;\n",
       "    }\n",
       "\n",
       "    .dataframe tbody tr th {\n",
       "        vertical-align: top;\n",
       "    }\n",
       "\n",
       "    .dataframe thead th {\n",
       "        text-align: right;\n",
       "    }\n",
       "</style>\n",
       "<table border=\"1\" class=\"dataframe\">\n",
       "  <thead>\n",
       "    <tr style=\"text-align: right;\">\n",
       "      <th></th>\n",
       "      <th>Sellers</th>\n",
       "      <th>Sales</th>\n",
       "    </tr>\n",
       "  </thead>\n",
       "  <tbody>\n",
       "    <tr>\n",
       "      <th>138</th>\n",
       "      <td>Seller 5</td>\n",
       "      <td>62</td>\n",
       "    </tr>\n",
       "    <tr>\n",
       "      <th>93</th>\n",
       "      <td>Seller 4</td>\n",
       "      <td>44</td>\n",
       "    </tr>\n",
       "    <tr>\n",
       "      <th>125</th>\n",
       "      <td>Seller 5</td>\n",
       "      <td>730</td>\n",
       "    </tr>\n",
       "    <tr>\n",
       "      <th>48</th>\n",
       "      <td>Seller 2</td>\n",
       "      <td>215</td>\n",
       "    </tr>\n",
       "    <tr>\n",
       "      <th>119</th>\n",
       "      <td>Seller 4</td>\n",
       "      <td>113</td>\n",
       "    </tr>\n",
       "  </tbody>\n",
       "</table>\n",
       "</div>"
      ],
      "text/plain": [
       "      Sellers  Sales\n",
       "138  Seller 5     62\n",
       "93   Seller 4     44\n",
       "125  Seller 5    730\n",
       "48   Seller 2    215\n",
       "119  Seller 4    113"
      ]
     },
     "execution_count": 10,
     "metadata": {},
     "output_type": "execute_result"
    }
   ],
   "source": [
    "df_pivot = pd.melt(df,value_vars=['Seller 1','Seller 2','Seller 3','Seller 4','Seller 5','Seller 6'], \n",
    "                   var_name=\"Sellers\", value_name=\"Sales\")\n",
    "df_pivot.sample(5)"
   ]
  },
  {
   "cell_type": "code",
   "execution_count": 11,
   "metadata": {},
   "outputs": [
    {
     "data": {
      "text/plain": [
       "array([[<matplotlib.axes._subplots.AxesSubplot object at 0x1163ec940>]],\n",
       "      dtype=object)"
      ]
     },
     "execution_count": 11,
     "metadata": {},
     "output_type": "execute_result"
    },
    {
     "data": {
      "image/png": "[encoded data removed]",
      "text/plain": [
       "<matplotlib.figure.Figure at 0x1163d3eb8>"
      ]
     },
     "metadata": {},
     "output_type": "display_data"
    }
   ],
   "source": [
    "df_pivot.hist()"
   ]
  },
  {
   "cell_type": "markdown",
   "metadata": {},
   "source": [
    "Then we can use a [Q-Q plot](https://en.wikipedia.org/wiki/Q%E2%80%93Q_plot) (a quantile-quantile plot) to see if we have a normal distribution.\n",
    "\n",
    "To do that we plot the sales values against a randomly generated normally-distributed set of new values."
   ]
  },
  {
   "cell_type": "code",
   "execution_count": 12,
   "metadata": {},
   "outputs": [
    {
     "data": {
      "image/png": "[encoded data removed]",
      "text/plain": [
       "<matplotlib.figure.Figure at 0x10f9be2b0>"
      ]
     },
     "metadata": {},
     "output_type": "display_data"
    }
   ],
   "source": [
    "# http://scientificpythonsnippets.com/index.php/distributions/6-q-q-plot-in-python-to-test-if-data-is-normally-distributed\n",
    "\n",
    "# get all of the sales values and plot them against a normally-distributed set of quantiles\n",
    "sales = df_pivot[\"Sales\"].copy()\n",
    "sales.sort_values(inplace=True)\n",
    "norm=random.lognormal(0,2,len(sales))\n",
    "norm.sort()\n",
    "plt.plot(norm,sales,\"o\")\n",
    "\n",
    "# add a trend line and make it pretty\n",
    "z = np.polyfit(norm,sales, 1)\n",
    "p = np.poly1d(z)\n",
    "plt.plot(norm,p(norm),\"k--\", linewidth=2)\n",
    "plt.title(\"Normal Q-Q plot\", size=28)\n",
    "plt.xlabel(\"Theoretical quantiles\", size=24)\n",
    "plt.ylabel(\"Expreimental quantiles\", size=24)\n",
    "plt.tick_params(labelsize=16)\n",
    "\n",
    "# plot all all values from data set under examination (the curvy line)\n",
    "# against values taken from a known distribution (normal in this case)\n"
   ]
  },
  {
   "cell_type": "markdown",
   "metadata": {},
   "source": [
    "For comparison, we can also plot two normally distributed sets against one another."
   ]
  },
  {
   "cell_type": "code",
   "execution_count": 13,
   "metadata": {},
   "outputs": [
    {
     "data": {
      "text/plain": [
       "[<matplotlib.lines.Line2D at 0x11670ef60>]"
      ]
     },
     "execution_count": 13,
     "metadata": {},
     "output_type": "execute_result"
    },
    {
     "data": {
      "image/png": "[encoded data removed]",
      "text/plain": [
       "<matplotlib.figure.Figure at 0x11652b7b8>"
      ]
     },
     "metadata": {},
     "output_type": "display_data"
    }
   ],
   "source": [
    "norm2=random.lognormal(0,2,len(sales))\n",
    "norm2.sort()\n",
    "plt.plot(norm,norm2,\"o\")"
   ]
  },
  {
   "cell_type": "markdown",
   "metadata": {},
   "source": [
    "If the data isn't normally distributed. Bootstrap CIs might be a better choice.\n",
    "\n",
    "(A histogram could also have shown us this.)"
   ]
  },
  {
   "cell_type": "code",
   "execution_count": 20,
   "metadata": {},
   "outputs": [
    {
     "data": {
      "text/plain": [
       "<matplotlib.axes._subplots.AxesSubplot at 0x11675d710>"
      ]
     },
     "execution_count": 20,
     "metadata": {},
     "output_type": "execute_result"
    },
    {
     "data": {
      "image/png": "[encoded data removed]",
      "text/plain": [
       "<matplotlib.figure.Figure at 0x11660b908>"
      ]
     },
     "metadata": {},
     "output_type": "display_data"
    }
   ],
   "source": [
    "np.sort(sales)\n",
    "sales.hist()"
   ]
  },
  {
   "cell_type": "markdown",
   "metadata": {},
   "source": [
    "This data probably has a log-normal distribution. Which we can test by taking the log."
   ]
  },
  {
   "cell_type": "code",
   "execution_count": 14,
   "metadata": {},
   "outputs": [
    {
     "data": {
      "text/plain": [
       "<matplotlib.axes._subplots.AxesSubplot at 0x121aeac50>"
      ]
     },
     "execution_count": 14,
     "metadata": {},
     "output_type": "execute_result"
    },
    {
     "data": {
      "image/png": "[encoded data removed]",
      "text/plain": [
       "<matplotlib.figure.Figure at 0x121a2a898>"
      ]
     },
     "metadata": {},
     "output_type": "display_data"
    }
   ],
   "source": [
    "np.log(sales).hist()"
   ]
  },
  {
   "cell_type": "markdown",
   "metadata": {},
   "source": [
    "...we can always reverse that by taking the exponent."
   ]
  },
  {
   "cell_type": "code",
   "execution_count": 15,
   "metadata": {},
   "outputs": [
    {
     "data": {
      "text/plain": [
       "<matplotlib.axes._subplots.AxesSubplot at 0x121ba9080>"
      ]
     },
     "execution_count": 15,
     "metadata": {},
     "output_type": "execute_result"
    },
    {
     "data": {
      "image/png": "[encoded data removed]",
      "text/plain": [
       "<matplotlib.figure.Figure at 0x121bbb5f8>"
      ]
     },
     "metadata": {},
     "output_type": "display_data"
    }
   ],
   "source": [
    "np.exp(np.log(sales)).hist()"
   ]
  },
  {
   "cell_type": "markdown",
   "metadata": {},
   "source": [
    "If we wanted to, we could log-transform the data, compute CIs, then convert back before plotting.\n",
    "This would give more accurate confidence intervals (you can try later if you'd like).\n",
    "Instead, for now, we'll compute bootstrap confidence intervals."
   ]
  },
  {
   "cell_type": "markdown",
   "metadata": {},
   "source": [
    "# Bootstrap confidence intervals in Seaborn\n",
    "\n",
    "The [Seaborn charting package](https://seaborn.github.io) supports bootstrap confidence intervals by default on most of it's chart types. \n",
    "\n",
    "If you don't already have seaborn installed, open a terminal or command prompt and run:\n",
    "`conda install seaborn`"
   ]
  },
  {
   "cell_type": "code",
   "execution_count": 16,
   "metadata": {
    "collapsed": true
   },
   "outputs": [],
   "source": [
    "# Import seaborn\n",
    "import seaborn as sns"
   ]
  },
  {
   "cell_type": "markdown",
   "metadata": {},
   "source": [
    "**Draw a bar plot to show each seller.**\n",
    "\n",
    "Use the `ci` parameter to set the confidence interval and the `n_boot` parameter to set the number of samples."
   ]
  },
  {
   "cell_type": "markdown",
   "metadata": {},
   "source": [
    "**Try experimenting with different sized confidence intervals and different numbers of bootstrap samples.**\n",
    "\n",
    "*How does this change the size of the confidence intervals?*\n",
    "*What happens if you re-run multiple times?*"
   ]
  },
  {
   "cell_type": "code",
   "execution_count": 17,
   "metadata": {
    "scrolled": true
   },
   "outputs": [
    {
     "data": {
      "image/png": "[encoded data removed]",
      "text/plain": [
       "<matplotlib.figure.Figure at 0x1a23899f98>"
      ]
     },
     "metadata": {},
     "output_type": "display_data"
    }
   ],
   "source": [
    "sns.set_style('whitegrid')\n",
    "g = sns.barplot(x=\"Sellers\", y=\"Sales\", hue=\"Sellers\", data=df_pivot,\n",
    "                palette=\"muted\", ci=95, n_boot=10)"
   ]
  },
  {
   "cell_type": "code",
   "execution_count": 18,
   "metadata": {},
   "outputs": [
    {
     "data": {
      "image/png": "[encoded data removed]",
      "text/plain": [
       "<matplotlib.figure.Figure at 0x116911208>"
      ]
     },
     "metadata": {},
     "output_type": "display_data"
    }
   ],
   "source": [
    "sns.set_style('whitegrid')\n",
    "g = sns.barplot(x=\"Sellers\", y=\"Sales\", hue=\"Sellers\", data=df_pivot,\n",
    "                palette=\"muted\", ci=95, n_boot=100)"
   ]
  },
  {
   "cell_type": "code",
   "execution_count": 19,
   "metadata": {},
   "outputs": [
    {
     "data": {
      "image/png": "[encoded data removed]",
      "text/plain": [
       "<matplotlib.figure.Figure at 0x1a23a48160>"
      ]
     },
     "metadata": {},
     "output_type": "display_data"
    }
   ],
   "source": [
    "g = sns.barplot(x=\"Sellers\", y=\"Sales\", hue=\"Sellers\", data=df_pivot,\n",
    "                palette=\"muted\", ci=95, n_boot=1000)"
   ]
  },
  {
   "cell_type": "code",
   "execution_count": 20,
   "metadata": {},
   "outputs": [
    {
     "data": {
      "image/png": "[encoded data removed]",
      "text/plain": [
       "<matplotlib.figure.Figure at 0x121bd0978>"
      ]
     },
     "metadata": {},
     "output_type": "display_data"
    }
   ],
   "source": [
    "g = sns.barplot(x=\"Sellers\", y=\"Sales\", hue=\"Sellers\", data=df_pivot,\n",
    "                palette=\"muted\", ci=95, n_boot=10000)"
   ]
  },
  {
   "cell_type": "markdown",
   "metadata": {},
   "source": [
    "# Confidence intervals for pairwise comparisons\n",
    "If we want to see if one seller reliably sells more than another seller on a daily basis, we can test that directly."
   ]
  },
  {
   "cell_type": "code",
   "execution_count": 21,
   "metadata": {},
   "outputs": [
    {
     "data": {
      "text/html": [
       "<div>\n",
       "<style>\n",
       "    .dataframe thead tr:only-child th {\n",
       "        text-align: right;\n",
       "    }\n",
       "\n",
       "    .dataframe thead th {\n",
       "        text-align: left;\n",
       "    }\n",
       "\n",
       "    .dataframe tbody tr th {\n",
       "        vertical-align: top;\n",
       "    }\n",
       "</style>\n",
       "<table border=\"1\" class=\"dataframe\">\n",
       "  <thead>\n",
       "    <tr style=\"text-align: right;\">\n",
       "      <th></th>\n",
       "      <th>Seller 6 - 3</th>\n",
       "      <th>Seller 6 - 5</th>\n",
       "    </tr>\n",
       "    <tr>\n",
       "      <th>day</th>\n",
       "      <th></th>\n",
       "      <th></th>\n",
       "    </tr>\n",
       "  </thead>\n",
       "  <tbody>\n",
       "    <tr>\n",
       "      <th>1</th>\n",
       "      <td>248</td>\n",
       "      <td>254</td>\n",
       "    </tr>\n",
       "    <tr>\n",
       "      <th>2</th>\n",
       "      <td>-69</td>\n",
       "      <td>-153</td>\n",
       "    </tr>\n",
       "    <tr>\n",
       "      <th>3</th>\n",
       "      <td>49</td>\n",
       "      <td>40</td>\n",
       "    </tr>\n",
       "    <tr>\n",
       "      <th>4</th>\n",
       "      <td>797</td>\n",
       "      <td>819</td>\n",
       "    </tr>\n",
       "    <tr>\n",
       "      <th>5</th>\n",
       "      <td>180</td>\n",
       "      <td>178</td>\n",
       "    </tr>\n",
       "  </tbody>\n",
       "</table>\n",
       "</div>"
      ],
      "text/plain": [
       "     Seller 6 - 3  Seller 6 - 5\n",
       "day                            \n",
       "1             248           254\n",
       "2             -69          -153\n",
       "3              49            40\n",
       "4             797           819\n",
       "5             180           178"
      ]
     },
     "execution_count": 21,
     "metadata": {},
     "output_type": "execute_result"
    }
   ],
   "source": [
    "df_comp = DataFrame({\"Seller 6 - 3\":(df['Seller 6'] - df['Seller 3']),\n",
    "                     \"Seller 6 - 5\":(df['Seller 6'] - df['Seller 5'])})\n",
    "df_comp.head(5)"
   ]
  },
  {
   "cell_type": "code",
   "execution_count": 22,
   "metadata": {},
   "outputs": [
    {
     "data": {
      "text/html": [
       "<div>\n",
       "<style>\n",
       "    .dataframe thead tr:only-child th {\n",
       "        text-align: right;\n",
       "    }\n",
       "\n",
       "    .dataframe thead th {\n",
       "        text-align: left;\n",
       "    }\n",
       "\n",
       "    .dataframe tbody tr th {\n",
       "        vertical-align: top;\n",
       "    }\n",
       "</style>\n",
       "<table border=\"1\" class=\"dataframe\">\n",
       "  <thead>\n",
       "    <tr style=\"text-align: right;\">\n",
       "      <th></th>\n",
       "      <th>Seller Pair</th>\n",
       "      <th>Difference in Sales</th>\n",
       "    </tr>\n",
       "  </thead>\n",
       "  <tbody>\n",
       "    <tr>\n",
       "      <th>12</th>\n",
       "      <td>Seller 6 - 3</td>\n",
       "      <td>1102</td>\n",
       "    </tr>\n",
       "    <tr>\n",
       "      <th>56</th>\n",
       "      <td>Seller 6 - 5</td>\n",
       "      <td>-24</td>\n",
       "    </tr>\n",
       "    <tr>\n",
       "      <th>48</th>\n",
       "      <td>Seller 6 - 5</td>\n",
       "      <td>10</td>\n",
       "    </tr>\n",
       "    <tr>\n",
       "      <th>47</th>\n",
       "      <td>Seller 6 - 5</td>\n",
       "      <td>169</td>\n",
       "    </tr>\n",
       "    <tr>\n",
       "      <th>22</th>\n",
       "      <td>Seller 6 - 3</td>\n",
       "      <td>-127</td>\n",
       "    </tr>\n",
       "  </tbody>\n",
       "</table>\n",
       "</div>"
      ],
      "text/plain": [
       "     Seller Pair  Difference in Sales\n",
       "12  Seller 6 - 3                 1102\n",
       "56  Seller 6 - 5                  -24\n",
       "48  Seller 6 - 5                   10\n",
       "47  Seller 6 - 5                  169\n",
       "22  Seller 6 - 3                 -127"
      ]
     },
     "execution_count": 22,
     "metadata": {},
     "output_type": "execute_result"
    }
   ],
   "source": [
    "df_comp_pivot = pd.melt(df_comp,value_vars=['Seller 6 - 3','Seller 6 - 5'], \n",
    "                   var_name=\"Seller Pair\", value_name=\"Difference in Sales\")\n",
    "df_comp_pivot.sample(5)"
   ]
  },
  {
   "cell_type": "code",
   "execution_count": 23,
   "metadata": {},
   "outputs": [
    {
     "data": {
      "text/plain": [
       "<matplotlib.lines.Line2D at 0x1a240e69e8>"
      ]
     },
     "execution_count": 23,
     "metadata": {},
     "output_type": "execute_result"
    },
    {
     "data": {
      "image/png": "[encoded data removed]",
      "text/plain": [
       "<matplotlib.figure.Figure at 0x121baf3c8>"
      ]
     },
     "metadata": {},
     "output_type": "display_data"
    }
   ],
   "source": [
    "sns.factorplot(y=\"Seller Pair\", x=\"Difference in Sales\", data=df_comp_pivot,\n",
    "               join=False,ci=95, n_boot=1000)\n",
    "plt.axvline(0,lw=2,color=\"k\")"
   ]
  },
  {
   "cell_type": "markdown",
   "metadata": {},
   "source": [
    "# Now...\n",
    "Have a look at the `sales-full.csv` dataset.\n",
    "Are there any clear differences in it?"
   ]
  },
  {
   "cell_type": "code",
   "execution_count": 24,
   "metadata": {},
   "outputs": [
    {
     "data": {
      "text/html": [
       "<div>\n",
       "<style>\n",
       "    .dataframe thead tr:only-child th {\n",
       "        text-align: right;\n",
       "    }\n",
       "\n",
       "    .dataframe thead th {\n",
       "        text-align: left;\n",
       "    }\n",
       "\n",
       "    .dataframe tbody tr th {\n",
       "        vertical-align: top;\n",
       "    }\n",
       "</style>\n",
       "<table border=\"1\" class=\"dataframe\">\n",
       "  <thead>\n",
       "    <tr style=\"text-align: right;\">\n",
       "      <th></th>\n",
       "      <th>day</th>\n",
       "      <th>Seller 1</th>\n",
       "      <th>Seller 2</th>\n",
       "      <th>Seller 3</th>\n",
       "      <th>Seller 4</th>\n",
       "      <th>Seller 5</th>\n",
       "      <th>Seller 6</th>\n",
       "    </tr>\n",
       "  </thead>\n",
       "  <tbody>\n",
       "    <tr>\n",
       "      <th>125</th>\n",
       "      <td>126</td>\n",
       "      <td>428</td>\n",
       "      <td>70</td>\n",
       "      <td>168</td>\n",
       "      <td>358</td>\n",
       "      <td>64</td>\n",
       "      <td>211</td>\n",
       "    </tr>\n",
       "    <tr>\n",
       "      <th>140</th>\n",
       "      <td>141</td>\n",
       "      <td>197</td>\n",
       "      <td>872</td>\n",
       "      <td>169</td>\n",
       "      <td>46</td>\n",
       "      <td>197</td>\n",
       "      <td>81</td>\n",
       "    </tr>\n",
       "    <tr>\n",
       "      <th>261</th>\n",
       "      <td>262</td>\n",
       "      <td>166</td>\n",
       "      <td>215</td>\n",
       "      <td>65</td>\n",
       "      <td>227</td>\n",
       "      <td>63</td>\n",
       "      <td>67</td>\n",
       "    </tr>\n",
       "    <tr>\n",
       "      <th>279</th>\n",
       "      <td>280</td>\n",
       "      <td>21</td>\n",
       "      <td>49</td>\n",
       "      <td>85</td>\n",
       "      <td>433</td>\n",
       "      <td>93</td>\n",
       "      <td>256</td>\n",
       "    </tr>\n",
       "    <tr>\n",
       "      <th>104</th>\n",
       "      <td>105</td>\n",
       "      <td>35</td>\n",
       "      <td>443</td>\n",
       "      <td>22</td>\n",
       "      <td>25</td>\n",
       "      <td>160</td>\n",
       "      <td>46</td>\n",
       "    </tr>\n",
       "    <tr>\n",
       "      <th>241</th>\n",
       "      <td>242</td>\n",
       "      <td>39</td>\n",
       "      <td>72</td>\n",
       "      <td>134</td>\n",
       "      <td>331</td>\n",
       "      <td>278</td>\n",
       "      <td>21</td>\n",
       "    </tr>\n",
       "    <tr>\n",
       "      <th>270</th>\n",
       "      <td>271</td>\n",
       "      <td>133</td>\n",
       "      <td>83</td>\n",
       "      <td>16</td>\n",
       "      <td>160</td>\n",
       "      <td>237</td>\n",
       "      <td>169</td>\n",
       "    </tr>\n",
       "    <tr>\n",
       "      <th>81</th>\n",
       "      <td>82</td>\n",
       "      <td>317</td>\n",
       "      <td>39</td>\n",
       "      <td>333</td>\n",
       "      <td>43</td>\n",
       "      <td>127</td>\n",
       "      <td>35</td>\n",
       "    </tr>\n",
       "    <tr>\n",
       "      <th>275</th>\n",
       "      <td>276</td>\n",
       "      <td>177</td>\n",
       "      <td>31</td>\n",
       "      <td>79</td>\n",
       "      <td>216</td>\n",
       "      <td>272</td>\n",
       "      <td>30</td>\n",
       "    </tr>\n",
       "    <tr>\n",
       "      <th>235</th>\n",
       "      <td>236</td>\n",
       "      <td>157</td>\n",
       "      <td>91</td>\n",
       "      <td>54</td>\n",
       "      <td>548</td>\n",
       "      <td>31</td>\n",
       "      <td>325</td>\n",
       "    </tr>\n",
       "  </tbody>\n",
       "</table>\n",
       "</div>"
      ],
      "text/plain": [
       "     day  Seller 1  Seller 2  Seller 3  Seller 4  Seller 5  Seller 6\n",
       "125  126       428        70       168       358        64       211\n",
       "140  141       197       872       169        46       197        81\n",
       "261  262       166       215        65       227        63        67\n",
       "279  280        21        49        85       433        93       256\n",
       "104  105        35       443        22        25       160        46\n",
       "241  242        39        72       134       331       278        21\n",
       "270  271       133        83        16       160       237       169\n",
       "81    82       317        39       333        43       127        35\n",
       "275  276       177        31        79       216       272        30\n",
       "235  236       157        91        54       548        31       325"
      ]
     },
     "execution_count": 24,
     "metadata": {},
     "output_type": "execute_result"
    }
   ],
   "source": [
    "df = pd.read_csv('sales-full.csv')\n",
    "df.sample(10)"
   ]
  },
  {
   "cell_type": "markdown",
   "metadata": {},
   "source": [
    "**Question #1**\n",
    "Based on the full data, are any of the encyclopedia sellers in this set clearly different from the others in terms of average daily sales? Who would you give a raise?"
   ]
  },
  {
   "cell_type": "code",
   "execution_count": 25,
   "metadata": {
    "collapsed": true
   },
   "outputs": [],
   "source": [
    "df_comp_6 = DataFrame({\"Seller 6 - 1\":(df['Seller 6'] - df['Seller 1']),\n",
    "                       \"Seller 6 - 2\":(df['Seller 6'] - df['Seller 2']),\n",
    "                       \"Seller 6 - 3\":(df['Seller 6'] - df['Seller 3']),\n",
    "                       \"Seller 6 - 4\":(df['Seller 6'] - df['Seller 4']),\n",
    "                       \"Seller 6 - 5\":(df['Seller 6'] - df['Seller 5'])})\n",
    "\n",
    "df_comp_5 = DataFrame({\"Seller 5 - 1\":(df['Seller 5'] - df['Seller 1']),\n",
    "                       \"Seller 5 - 2\":(df['Seller 5'] - df['Seller 2']),\n",
    "                       \"Seller 5 - 3\":(df['Seller 5'] - df['Seller 3']),\n",
    "                       \"Seller 5 - 4\":(df['Seller 5'] - df['Seller 4']),\n",
    "                       \"Seller 5 - 6\":(df['Seller 5'] - df['Seller 6'])})\n",
    "\n",
    "df_comp_4 = DataFrame({\"Seller 4 - 1\":(df['Seller 4'] - df['Seller 1']),\n",
    "                       \"Seller 4 - 2\":(df['Seller 4'] - df['Seller 2']),\n",
    "                       \"Seller 4 - 3\":(df['Seller 4'] - df['Seller 3']),\n",
    "                       \"Seller 4 - 5\":(df['Seller 4'] - df['Seller 5']),\n",
    "                       \"Seller 4 - 6\":(df['Seller 4'] - df['Seller 6'])})\n",
    "\n",
    "df_comp_3 = DataFrame({\"Seller 3 - 1\":(df['Seller 3'] - df['Seller 1']),\n",
    "                       \"Seller 3 - 2\":(df['Seller 3'] - df['Seller 2']),\n",
    "                       \"Seller 3 - 4\":(df['Seller 3'] - df['Seller 4']),\n",
    "                       \"Seller 3 - 5\":(df['Seller 3'] - df['Seller 5']),  \n",
    "                       \"Seller 3 - 6\":(df['Seller 3'] - df['Seller 6'])})\n",
    "\n",
    "df_comp_2 = DataFrame({\"Seller 2 - 1\":(df['Seller 2'] - df['Seller 1']),\n",
    "                       \"Seller 2 - 3\":(df['Seller 2'] - df['Seller 3']),\n",
    "                       \"Seller 2 - 4\":(df['Seller 2'] - df['Seller 4']),\n",
    "                       \"Seller 2 - 5\":(df['Seller 2'] - df['Seller 5']),\n",
    "                       \"Seller 2 - 6\":(df['Seller 2'] - df['Seller 6'])})\n",
    "\n",
    "df_comp_1 = DataFrame({\"Seller 1 - 2\":(df['Seller 1'] - df['Seller 2']),\n",
    "                       \"Seller 1 - 3\":(df['Seller 1'] - df['Seller 3']),\n",
    "                       \"Seller 1 - 4\":(df['Seller 1'] - df['Seller 4']),\n",
    "                       \"Seller 1 - 5\":(df['Seller 1'] - df['Seller 5']),\n",
    "                       \"Seller 1 - 6\":(df['Seller 1'] - df['Seller 6'])})"
   ]
  },
  {
   "cell_type": "code",
   "execution_count": 26,
   "metadata": {
    "collapsed": true
   },
   "outputs": [],
   "source": [
    "df_comp_pivot_6 = pd.melt(df_comp_6,value_vars=[\n",
    "                   'Seller 6 - 1',\n",
    "                   'Seller 6 - 2',\n",
    "                   'Seller 6 - 3',\n",
    "                   'Seller 6 - 4',\n",
    "                   'Seller 6 - 5'], \n",
    "                   var_name=\"Seller Pair\", value_name=\"Difference in Sales\")\n",
    "\n",
    "df_comp_pivot_5 = pd.melt(df_comp_5,value_vars=[\n",
    "                   'Seller 5 - 1',\n",
    "                   'Seller 5 - 2',\n",
    "                   'Seller 5 - 3',\n",
    "                   'Seller 5 - 4',\n",
    "                   'Seller 5 - 6'], \n",
    "                   var_name=\"Seller Pair\", value_name=\"Difference in Sales\")\n",
    "\n",
    "df_comp_pivot_4 = pd.melt(df_comp_4,value_vars=[\n",
    "                   'Seller 4 - 1',\n",
    "                   'Seller 4 - 2',\n",
    "                   'Seller 4 - 3',\n",
    "                   'Seller 4 - 5',\n",
    "                   'Seller 4 - 6'], \n",
    "                   var_name=\"Seller Pair\", value_name=\"Difference in Sales\")\n",
    "\n",
    "df_comp_pivot_3 = pd.melt(df_comp_3,value_vars=[\n",
    "                   'Seller 3 - 1',\n",
    "                   'Seller 3 - 2',\n",
    "                   'Seller 3 - 4',\n",
    "                   'Seller 3 - 5',\n",
    "                   'Seller 3 - 6'], \n",
    "                   var_name=\"Seller Pair\", value_name=\"Difference in Sales\")\n",
    "\n",
    "df_comp_pivot_2 = pd.melt(df_comp_2,value_vars=[\n",
    "                   'Seller 2 - 1',\n",
    "                   'Seller 2 - 3',\n",
    "                   'Seller 2 - 4',\n",
    "                   'Seller 2 - 5',\n",
    "                   'Seller 2 - 6'], \n",
    "                   var_name=\"Seller Pair\", value_name=\"Difference in Sales\")\n",
    "\n",
    "df_comp_pivot_1 = pd.melt(df_comp_1,value_vars=[\n",
    "                   'Seller 1 - 2',\n",
    "                   'Seller 1 - 3',\n",
    "                   'Seller 1 - 4',\n",
    "                   'Seller 1 - 5',\n",
    "                   'Seller 1 - 6'], \n",
    "                   var_name=\"Seller Pair\", value_name=\"Difference in Sales\")"
   ]
  },
  {
   "cell_type": "code",
   "execution_count": 27,
   "metadata": {
    "scrolled": true
   },
   "outputs": [
    {
     "data": {
      "text/plain": [
       "<matplotlib.lines.Line2D at 0x1a242c9668>"
      ]
     },
     "execution_count": 27,
     "metadata": {},
     "output_type": "execute_result"
    },
    {
     "data": {
      "image/png": "[encoded data removed]",
      "text/plain": [
       "<matplotlib.figure.Figure at 0x1a24196ef0>"
      ]
     },
     "metadata": {},
     "output_type": "display_data"
    },
    {
     "data": {
      "image/png": "[encoded data removed]",
      "text/plain": [
       "<matplotlib.figure.Figure at 0x1a23f2b160>"
      ]
     },
     "metadata": {},
     "output_type": "display_data"
    },
    {
     "data": {
      "image/png": "[encoded data removed]",
      "text/plain": [
       "<matplotlib.figure.Figure at 0x1a24087470>"
      ]
     },
     "metadata": {},
     "output_type": "display_data"
    },
    {
     "data": {
      "image/png": "[encoded data removed]",
      "text/plain": [
       "<matplotlib.figure.Figure at 0x1a2403f048>"
      ]
     },
     "metadata": {},
     "output_type": "display_data"
    },
    {
     "data": {
      "image/png": "[encoded data removed]",
      "text/plain": [
       "<matplotlib.figure.Figure at 0x1a23f31ef0>"
      ]
     },
     "metadata": {},
     "output_type": "display_data"
    },
    {
     "data": {
      "image/png": "[encoded data removed]",
      "text/plain": [
       "<matplotlib.figure.Figure at 0x1a2394e278>"
      ]
     },
     "metadata": {},
     "output_type": "display_data"
    }
   ],
   "source": [
    "sns.factorplot(y=\"Seller Pair\", x=\"Difference in Sales\", data=df_comp_pivot_6,\n",
    "               join=False,ci=95, n_boot=1000)\n",
    "plt.axvline(0,lw=2,color=\"k\")\n",
    "\n",
    "sns.factorplot(y=\"Seller Pair\", x=\"Difference in Sales\", data=df_comp_pivot_5,\n",
    "               join=False,ci=95, n_boot=1000)\n",
    "plt.axvline(0,lw=2,color=\"k\")\n",
    "\n",
    "sns.factorplot(y=\"Seller Pair\", x=\"Difference in Sales\", data=df_comp_pivot_4,\n",
    "               join=False,ci=95, n_boot=1000)\n",
    "plt.axvline(0,lw=2,color=\"k\")\n",
    "\n",
    "sns.factorplot(y=\"Seller Pair\", x=\"Difference in Sales\", data=df_comp_pivot_3,\n",
    "               join=False,ci=95, n_boot=1000)\n",
    "plt.axvline(0,lw=2,color=\"k\")\n",
    "\n",
    "sns.factorplot(y=\"Seller Pair\", x=\"Difference in Sales\", data=df_comp_pivot_2,\n",
    "               join=False,ci=95, n_boot=1000)\n",
    "plt.axvline(0,lw=2,color=\"k\")\n",
    "\n",
    "sns.factorplot(y=\"Seller Pair\", x=\"Difference in Sales\", data=df_comp_pivot_1,\n",
    "               join=False,ci=95, n_boot=1000)\n",
    "plt.axvline(0,lw=2,color=\"k\")"
   ]
  },
  {
   "cell_type": "code",
   "execution_count": 28,
   "metadata": {
    "scrolled": false
   },
   "outputs": [
    {
     "data": {
      "image/png": "[encoded data removed]",
      "text/plain": [
       "<matplotlib.figure.Figure at 0x1a24077e10>"
      ]
     },
     "metadata": {},
     "output_type": "display_data"
    }
   ],
   "source": [
    "df_pivot = pd.melt(df,value_vars=['Seller 1','Seller 2','Seller 3','Seller 4','Seller 5','Seller 6'], \n",
    "                   var_name=\"Sellers\", value_name=\"Sales\")\n",
    "\n",
    "sns.set_style('whitegrid')\n",
    "g = sns.barplot(x=\"Sellers\", y=\"Sales\", hue=\"Sellers\", data=df_pivot,\n",
    "                palette=\"muted\", ci=95, n_boot=1000)"
   ]
  },
  {
   "cell_type": "markdown",
   "metadata": {
    "collapsed": true
   },
   "source": [
    "## Seller 5 is clearly the best salesperson in the full dataset."
   ]
  },
  {
   "cell_type": "markdown",
   "metadata": {},
   "source": [
    "**Question #2**\n",
    "We have data from six sellers from a company with many more. Based on this sample, does it look like the weeks with the best *average daily sales per seller* are clearly different from the weeks with the worst *average daily sales per seller*? \n",
    "*(Be sure to think about your unit of analysis.)*"
   ]
  },
  {
   "cell_type": "code",
   "execution_count": 29,
   "metadata": {
    "collapsed": true
   },
   "outputs": [],
   "source": [
    "df = pd.read_csv('sales-full.csv')"
   ]
  },
  {
   "cell_type": "code",
   "execution_count": 30,
   "metadata": {
    "collapsed": true
   },
   "outputs": [],
   "source": [
    "# Declare dataframe for pivoted data:\n",
    "df_weeks = pd.DataFrame(columns=['Sellers', 'Sales', 'Week', 'Week Avg'])\n",
    "\n",
    "# Split data into 5-day weeks:\n",
    "for i in range(len(df)//5):\n",
    "    \n",
    "    # Determine averages for ordering later on:\n",
    "    s1_avg = df[0:5]['Seller 1'].mean()\n",
    "    s2_avg = df[0:5]['Seller 2'].mean()\n",
    "    s3_avg = df[0:5]['Seller 3'].mean()\n",
    "    s4_avg = df[0:5]['Seller 4'].mean()\n",
    "    s5_avg = df[0:5]['Seller 5'].mean()\n",
    "    s6_avg = df[0:5]['Seller 6'].mean()\n",
    "    week_avg = (s1_avg + s2_avg + s3_avg + s4_avg + s5_avg + s6_avg) / 6\n",
    "    \n",
    "    # Pivot weekly data:\n",
    "    df_week_pivot = pd.melt(df[0:5],value_vars=['Seller 1','Seller 2','Seller 3','Seller 4','Seller 5','Seller 6'], \n",
    "                   var_name='Sellers', value_name='Sales')\n",
    "    \n",
    "    # Add columns:\n",
    "    df_week_pivot['Week'] = i + 1\n",
    "    df_week_pivot['Week Avg'] = week_avg\n",
    "    \n",
    "    # Append current weeks' data into master dataframe:\n",
    "    df_weeks = df_weeks.append(df_week_pivot, ignore_index=True)\n",
    "    \n",
    "    # Remove week that was just processed:\n",
    "    df = df[5:]"
   ]
  },
  {
   "cell_type": "code",
   "execution_count": 31,
   "metadata": {
    "collapsed": true
   },
   "outputs": [],
   "source": [
    "# Sort data by overall weekly averages:\n",
    "df_weeks = df_weeks.sort_values(by='Week Avg')\n",
    "\n",
    "# Create an ordering list for the barplot:\n",
    "wk_order = []\n",
    "for week in df_weeks['Week']:\n",
    "    if week not in wk_order:\n",
    "        wk_order.append(week)"
   ]
  },
  {
   "cell_type": "code",
   "execution_count": 38,
   "metadata": {},
   "outputs": [
    {
     "data": {
      "image/png": "[encoded data removed]",
      "text/plain": [
       "<matplotlib.figure.Figure at 0x1a2a344d68>"
      ]
     },
     "metadata": {},
     "output_type": "display_data"
    }
   ],
   "source": [
    "# Define barplot dimensions and Seaborn settings:\n",
    "a4_dims = (17, 12)\n",
    "fig, ax = pyplot.subplots(figsize=a4_dims)\n",
    "sns.set_style('whitegrid')\n",
    "\n",
    "# Plot the data, bootstrapping each week to generate confidence intervals:\n",
    "wks_plot = sns.barplot(ax=ax, x='Week', y='Sales', data=df_weeks, order=wk_order,\n",
    "                       palette=\"Blues_d\", ci=95, n_boot=1000)\n",
    "\n",
    "# Define labels and sizing:\n",
    "wks_plot.axes.set_title(\"Week Comparison\",fontsize=40)\n",
    "wks_plot.set_xlabel(\"Week\",fontsize=20)\n",
    "wks_plot.set_ylabel(\"Sales\",fontsize=20)\n",
    "wks_plot.tick_params(labelsize=12)"
   ]
  },
  {
   "cell_type": "markdown",
   "metadata": {},
   "source": [
    "**Question #3** {Question of your choice.}"
   ]
  },
  {
   "cell_type": "code",
   "execution_count": 110,
   "metadata": {
    "scrolled": false
   },
   "outputs": [],
   "source": [
    "df = pd.read_csv('sales-full.csv')"
   ]
  },
  {
   "cell_type": "code",
   "execution_count": 108,
   "metadata": {},
   "outputs": [],
   "source": [
    "# Declare dataframe for day info:\n",
    "df_days = pd.DataFrame(columns=['Day', 'Day Avg'])\n",
    "\n",
    "day_names = {1.0 : 'Monday',\n",
    "             2.0 : 'Tuesday',\n",
    "             3.0 : 'Wednesday',\n",
    "             4.0 : 'Thursday',\n",
    "             5.0 : 'Friday',\n",
    "}\n",
    "\n",
    "# Split data by day and calculate each day's mean sales:\n",
    "for i in range(len(df)):\n",
    "    \n",
    "    # Determine the mean sales for day i:\n",
    "    day_avg = df.iloc[i][['Seller 1','Seller 2','Seller 3','Seller 4','Seller 5','Seller 6']].mean()\n",
    "    \n",
    "    # Determine day of the week:\n",
    "    day = (df.iloc[i]['day'] % 5) + 1\n",
    "    \n",
    "    # Append current days' data into master dataframe:\n",
    "    df_days.loc[i] = [day_names[day], day_avg]"
   ]
  },
  {
   "cell_type": "code",
   "execution_count": 128,
   "metadata": {},
   "outputs": [
    {
     "data": {
      "image/png": "[encoded data removed]",
      "text/plain": [
       "<matplotlib.figure.Figure at 0x1a2a2e0198>"
      ]
     },
     "metadata": {},
     "output_type": "display_data"
    }
   ],
   "source": [
    "# Define barplot dimensions and Seaborn settings:\n",
    "a4_dims = (15, 10)\n",
    "fig, ax = pyplot.subplots(figsize=a4_dims)\n",
    "sns.set_style('whitegrid')\n",
    "\n",
    "ordering = ['Monday', 'Tuesday', 'Wednesday', 'Thursday', 'Friday']\n",
    "\n",
    "# Plot the data, bootstrapping each week to generate confidence intervals:\n",
    "days_plot = sns.barplot(ax=ax, x='Day', y='Day Avg', data=df_days, \n",
    "                        order=ordering, palette=\"muted\", ci=95, n_boot=1000)\n",
    "\n",
    "# Define labels and sizing:\n",
    "days_plot.axes.set_title(\"Day Comparison\",fontsize=40)\n",
    "days_plot.set_ylabel(\"Average Sales\",fontsize=24)\n",
    "days_plot.set_xlabel(\"\",fontsize=0)\n",
    "days_plot.tick_params(labelsize=16)"
   ]
  }
 ],
 "metadata": {
  "anaconda-cloud": {},
  "kernelspec": {
   "display_name": "Python 3",
   "language": "python",
   "name": "python3"
  },
  "language_info": {
   "codemirror_mode": {
    "name": "ipython",
    "version": 3
   },
   "file_extension": ".py",
   "mimetype": "text/x-python",
   "name": "python",
   "nbconvert_exporter": "python",
   "pygments_lexer": "ipython3",
   "version": "3.6.4"
  }
 },
 "nbformat": 4,
 "nbformat_minor": 1
}
