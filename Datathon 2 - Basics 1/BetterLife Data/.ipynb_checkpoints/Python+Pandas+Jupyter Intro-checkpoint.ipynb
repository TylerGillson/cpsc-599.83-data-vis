{
 "cells": [
  {
   "cell_type": "markdown",
   "metadata": {},
   "source": [
    "# BASIC"
   ]
  },
  {
   "cell_type": "code",
   "execution_count": null,
   "metadata": {
    "collapsed": true
   },
   "outputs": [],
   "source": [
    "2+2"
   ]
  },
  {
   "cell_type": "code",
   "execution_count": null,
   "metadata": {
    "collapsed": true
   },
   "outputs": [],
   "source": [
    "print(4+6)"
   ]
  },
  {
   "cell_type": "code",
   "execution_count": null,
   "metadata": {
    "collapsed": true
   },
   "outputs": [],
   "source": [
    "print 5+5 #doesn't work, use Python 3 print()"
   ]
  },
  {
   "cell_type": "code",
   "execution_count": null,
   "metadata": {
    "collapsed": true
   },
   "outputs": [],
   "source": [
    "4  #int\n",
    "4.3 # float\n",
    "\"hello world\" # string\n",
    "True #boolean\n",
    "False #boolean\n",
    "None # undefined"
   ]
  },
  {
   "cell_type": "code",
   "execution_count": null,
   "metadata": {
    "collapsed": true
   },
   "outputs": [],
   "source": [
    "type(4) # type() is useful for figuring out what kind of data you have"
   ]
  },
  {
   "cell_type": "code",
   "execution_count": null,
   "metadata": {
    "collapsed": true
   },
   "outputs": [],
   "source": [
    "type(5.4)"
   ]
  },
  {
   "cell_type": "code",
   "execution_count": null,
   "metadata": {
    "collapsed": true
   },
   "outputs": [],
   "source": [
    "type(\"hello world\")"
   ]
  },
  {
   "cell_type": "markdown",
   "metadata": {},
   "source": [
    "# Converting between types"
   ]
  },
  {
   "cell_type": "code",
   "execution_count": null,
   "metadata": {
    "collapsed": true
   },
   "outputs": [],
   "source": [
    "int(6.42)  #convert float -> int"
   ]
  },
  {
   "cell_type": "code",
   "execution_count": null,
   "metadata": {
    "collapsed": true
   },
   "outputs": [],
   "source": [
    "str(5)  # convert int -> string"
   ]
  },
  {
   "cell_type": "code",
   "execution_count": null,
   "metadata": {
    "collapsed": true
   },
   "outputs": [],
   "source": [
    "#group question \n",
    "#How can we make this work? \n",
    "print(5 + \" is a number\") # not work"
   ]
  },
  {
   "cell_type": "code",
   "execution_count": null,
   "metadata": {
    "collapsed": true
   },
   "outputs": [],
   "source": [
    "# group question\n",
    "type(1/2)   # float, int, string?"
   ]
  },
  {
   "cell_type": "markdown",
   "metadata": {},
   "source": [
    "# logic in python"
   ]
  },
  {
   "cell_type": "code",
   "execution_count": null,
   "metadata": {
    "collapsed": true
   },
   "outputs": [],
   "source": [
    "5 > 4"
   ]
  },
  {
   "cell_type": "code",
   "execution_count": null,
   "metadata": {
    "collapsed": true
   },
   "outputs": [],
   "source": [
    "# 5 >= 4, 5 <= 4, 5 == 4, 5 < 4, 5> 4\n",
    "5 == 4 # false\n",
    "5.0 == 5  # convert, True\n",
    "5.0 == \"5\"  # false"
   ]
  },
  {
   "cell_type": "code",
   "execution_count": null,
   "metadata": {
    "collapsed": true
   },
   "outputs": [],
   "source": [
    "(5 > 4) and (5 < 3)"
   ]
  },
  {
   "cell_type": "code",
   "execution_count": null,
   "metadata": {
    "collapsed": true
   },
   "outputs": [],
   "source": [
    "#group question\n",
    "(5 > 4) or (5 < 3)"
   ]
  },
  {
   "cell_type": "markdown",
   "metadata": {},
   "source": [
    "# Variables"
   ]
  },
  {
   "cell_type": "code",
   "execution_count": null,
   "metadata": {
    "collapsed": true
   },
   "outputs": [],
   "source": [
    "x = 3.2\n",
    "y = \"hello world\""
   ]
  },
  {
   "cell_type": "code",
   "execution_count": null,
   "metadata": {
    "collapsed": true
   },
   "outputs": [],
   "source": [
    "helloHappyPeople = \"hello world\""
   ]
  },
  {
   "cell_type": "code",
   "execution_count": null,
   "metadata": {
    "collapsed": true
   },
   "outputs": [],
   "source": [
    "h # tab to autocomplete"
   ]
  },
  {
   "cell_type": "code",
   "execution_count": null,
   "metadata": {
    "collapsed": true
   },
   "outputs": [],
   "source": [
    "z = \"3.2\"\n",
    "#group question \n",
    "x == z # False or True?"
   ]
  },
  {
   "cell_type": "code",
   "execution_count": null,
   "metadata": {},
   "outputs": [],
   "source": [
    "#group question\n",
    "x = True\n",
    "y = False\n",
    "z = False\n",
    "\n",
    "if x or y and z:\n",
    "    print('yes')\n",
    "else:\n",
    "    print('no')   \n",
    "\n",
    "# will the output be yes or no?"
   ]
  },
  {
   "cell_type": "code",
   "execution_count": null,
   "metadata": {
    "collapsed": true
   },
   "outputs": [],
   "source": [
    "#group question\n",
    "x or (y and z)"
   ]
  },
  {
   "cell_type": "code",
   "execution_count": null,
   "metadata": {
    "collapsed": true
   },
   "outputs": [],
   "source": [
    "#group question\n",
    "x or y or z"
   ]
  },
  {
   "cell_type": "markdown",
   "metadata": {},
   "source": [
    "# tuples/lists/dictionaries"
   ]
  },
  {
   "cell_type": "code",
   "execution_count": null,
   "metadata": {
    "collapsed": true
   },
   "outputs": [],
   "source": [
    "names_tuples = ('alice','bob','sam')  # tuple, are not modifiable (immutable)\n",
    "names_list  = ['alice','bob','sam']  #list, are changeable (mutable)"
   ]
  },
  {
   "cell_type": "code",
   "execution_count": null,
   "metadata": {
    "collapsed": true
   },
   "outputs": [],
   "source": [
    "names_tuples.append('jake')"
   ]
  },
  {
   "cell_type": "code",
   "execution_count": null,
   "metadata": {
    "collapsed": true
   },
   "outputs": [],
   "source": [
    "names_list.append('jake')\n",
    "names_list"
   ]
  },
  {
   "cell_type": "code",
   "execution_count": null,
   "metadata": {
    "collapsed": true
   },
   "outputs": [],
   "source": [
    "names_list.insert(3,'chelsea')  # chelsea inserted at position 3\n",
    "names_list"
   ]
  },
  {
   "cell_type": "code",
   "execution_count": null,
   "metadata": {
    "collapsed": true
   },
   "outputs": [],
   "source": [
    "names_list[1]  # to get bob"
   ]
  },
  {
   "cell_type": "code",
   "execution_count": null,
   "metadata": {
    "collapsed": true
   },
   "outputs": [],
   "source": [
    "names_list.pop()  # pull from end"
   ]
  },
  {
   "cell_type": "code",
   "execution_count": null,
   "metadata": {
    "collapsed": true
   },
   "outputs": [],
   "source": [
    "names_list"
   ]
  },
  {
   "cell_type": "code",
   "execution_count": null,
   "metadata": {
    "collapsed": true
   },
   "outputs": [],
   "source": [
    "names_list.index('sam')  #tell me where sam is in the list"
   ]
  },
  {
   "cell_type": "code",
   "execution_count": null,
   "metadata": {
    "collapsed": true
   },
   "outputs": [],
   "source": [
    "len(names_list)  # give me the length  --> 3 or 4"
   ]
  },
  {
   "cell_type": "code",
   "execution_count": null,
   "metadata": {
    "collapsed": true
   },
   "outputs": [],
   "source": [
    "a = [[1,2],[4,5]]\n",
    "a[1][0]  # will I get 1,2,4, or 5?"
   ]
  },
  {
   "cell_type": "code",
   "execution_count": null,
   "metadata": {
    "collapsed": true
   },
   "outputs": [],
   "source": [
    "#group quesiton\n",
    "a = [1,2,3,None,(),[],] # what is len(a)? 4,5,6,7 or error?"
   ]
  },
  {
   "cell_type": "code",
   "execution_count": null,
   "metadata": {
    "collapsed": true
   },
   "outputs": [],
   "source": [
    "# concat lists\n",
    "list1 = [1,2,3,4]\n",
    "list2 = [5,6,7,8]\n",
    "list1 + list2"
   ]
  },
  {
   "cell_type": "code",
   "execution_count": null,
   "metadata": {
    "collapsed": true
   },
   "outputs": [],
   "source": [
    "#group question\n",
    "#What is the answer? \n",
    "\"apple\" + \"bana\"  "
   ]
  },
  {
   "cell_type": "markdown",
   "metadata": {},
   "source": [
    "# Objects in Python"
   ]
  },
  {
   "cell_type": "code",
   "execution_count": null,
   "metadata": {
    "collapsed": true
   },
   "outputs": [],
   "source": [
    "class Person:\n",
    "    \n",
    "    fullname = None   # this is a field\n",
    "    weight = 0 # also a field\n",
    "    height = 0 # also a field\n",
    "    \n",
    "    def __init__(self,name,w,h):  # constructor (make a new person)\n",
    "        self.fullname = name\n",
    "        self.weight = w\n",
    "        self.height = h\n",
    "    \n",
    "    def getFullName(self):  # give me your name\n",
    "        return(self.fullname)\n",
    "    \n",
    "    def setWeight(self,newweight):  # update your weight\n",
    "        self.weight = newweight\n",
    "        \n",
    "    def getBMI(self):\n",
    "        return(int(703*self.weight/(self.height*self.height)))"
   ]
  },
  {
   "cell_type": "code",
   "execution_count": null,
   "metadata": {
    "collapsed": true
   },
   "outputs": [],
   "source": [
    "alex = Person(\"alex\",150,68)  # make a new instance of person"
   ]
  },
  {
   "cell_type": "code",
   "execution_count": null,
   "metadata": {
    "collapsed": true
   },
   "outputs": [],
   "source": [
    "jane = Person(\"jane\",130,68)  # make a new instance"
   ]
  },
  {
   "cell_type": "code",
   "execution_count": null,
   "metadata": {
    "collapsed": true
   },
   "outputs": [],
   "source": [
    "alex.getFullName()   # what is your name?"
   ]
  },
  {
   "cell_type": "code",
   "execution_count": null,
   "metadata": {
    "collapsed": true
   },
   "outputs": [],
   "source": [
    "wes = Person(\"Wes\",180,76)"
   ]
  },
  {
   "cell_type": "code",
   "execution_count": null,
   "metadata": {},
   "outputs": [],
   "source": [
    "wes.getBMI()"
   ]
  },
  {
   "cell_type": "code",
   "execution_count": null,
   "metadata": {
    "collapsed": true
   },
   "outputs": [],
   "source": [
    "jane.getFullName()   # what is your name?"
   ]
  },
  {
   "cell_type": "code",
   "execution_count": null,
   "metadata": {
    "collapsed": true
   },
   "outputs": [],
   "source": [
    "alex.getBMI()  # what is your BMI?"
   ]
  },
  {
   "cell_type": "code",
   "execution_count": null,
   "metadata": {
    "collapsed": true
   },
   "outputs": [],
   "source": [
    "alex.setWeight(190)"
   ]
  },
  {
   "cell_type": "code",
   "execution_count": null,
   "metadata": {
    "collapsed": true
   },
   "outputs": [],
   "source": [
    "alex.getBMI()"
   ]
  },
  {
   "cell_type": "markdown",
   "metadata": {},
   "source": [
    "# Pandas 101"
   ]
  },
  {
   "cell_type": "code",
   "execution_count": null,
   "metadata": {},
   "outputs": [],
   "source": [
    "import numpy as np  #load up the libraries and object defs. we need\n",
    "import pandas as pd\n",
    "from pandas import DataFrame, Series\n",
    "\n",
    "# load up my visualization system, and call the object plt\n",
    "import matplotlib.pyplot as plt\n",
    "\n",
    "# tell ipython notebook to print visualizations inline\n",
    "%pylab\n",
    "%matplotlib inline"
   ]
  },
  {
   "cell_type": "code",
   "execution_count": null,
   "metadata": {
    "collapsed": true
   },
   "outputs": [],
   "source": [
    "# defined a new class with students, years, and grades\n",
    "myclass = pd.DataFrame({'student':['alice','bob','louis','jen'],\\\n",
    "                       'year':[4,4,3,3],\\\n",
    "                       'grade':[10,9,10,10]})"
   ]
  },
  {
   "cell_type": "code",
   "execution_count": null,
   "metadata": {},
   "outputs": [],
   "source": [
    "myclass   # show me what the class looks like"
   ]
  },
  {
   "cell_type": "code",
   "execution_count": null,
   "metadata": {},
   "outputs": [],
   "source": [
    "myclass.shape  # how many rows and columns"
   ]
  },
  {
   "cell_type": "code",
   "execution_count": null,
   "metadata": {},
   "outputs": [],
   "source": [
    "myclass.columns  # give me the column names"
   ]
  },
  {
   "cell_type": "code",
   "execution_count": null,
   "metadata": {},
   "outputs": [],
   "source": [
    "myclass.year.unique()  # give me the unique years"
   ]
  },
  {
   "cell_type": "code",
   "execution_count": null,
   "metadata": {},
   "outputs": [],
   "source": [
    "pd.crosstab(myclass.grade,myclass.year)  # count me how many people are in each condition"
   ]
  },
  {
   "cell_type": "code",
   "execution_count": null,
   "metadata": {},
   "outputs": [],
   "source": [
    "plt.hist(myclass.grade)"
   ]
  },
  {
   "cell_type": "code",
   "execution_count": null,
   "metadata": {},
   "outputs": [],
   "source": [
    "pd.crosstab(myclass.year,myclass.grade)  #order reversed (x/y)"
   ]
  },
  {
   "cell_type": "code",
   "execution_count": null,
   "metadata": {},
   "outputs": [],
   "source": [
    "myclass.info()"
   ]
  },
  {
   "cell_type": "code",
   "execution_count": null,
   "metadata": {},
   "outputs": [],
   "source": [
    "myclass.describe()"
   ]
  },
  {
   "cell_type": "code",
   "execution_count": null,
   "metadata": {},
   "outputs": [],
   "source": [
    "myclass.T  # get the transpose"
   ]
  },
  {
   "cell_type": "code",
   "execution_count": null,
   "metadata": {},
   "outputs": [],
   "source": [
    "myclass = myclass.set_index('student')  # make a new dataframe based on myclass, BUT with student as the main/index key\n",
    "myclass"
   ]
  },
  {
   "cell_type": "code",
   "execution_count": null,
   "metadata": {},
   "outputs": [],
   "source": [
    "myclass.sort_index()"
   ]
  },
  {
   "cell_type": "code",
   "execution_count": null,
   "metadata": {},
   "outputs": [],
   "source": [
    "yrg = myclass.groupby('year')  # partition into groups I care about\n",
    "yrg.describe()  # describe them  (statistical props. of each group)"
   ]
  },
  {
   "cell_type": "code",
   "execution_count": null,
   "metadata": {},
   "outputs": [],
   "source": [
    "myclass.grade >= 10 "
   ]
  },
  {
   "cell_type": "code",
   "execution_count": null,
   "metadata": {
    "collapsed": true
   },
   "outputs": [],
   "source": [
    "goodgrades = myclass.grade >= 10  # created a filter for students with good grades\n",
    "goodgrades"
   ]
  },
  {
   "cell_type": "code",
   "execution_count": null,
   "metadata": {
    "collapsed": true
   },
   "outputs": [],
   "source": [
    "myclass[goodgrades]  # apply the filter"
   ]
  },
  {
   "cell_type": "code",
   "execution_count": null,
   "metadata": {
    "collapsed": true
   },
   "outputs": [],
   "source": [
    "myclass"
   ]
  },
  {
   "cell_type": "code",
   "execution_count": null,
   "metadata": {
    "collapsed": true
   },
   "outputs": [],
   "source": [
    "myclass.year == 4  # all people who are seniors"
   ]
  },
  {
   "cell_type": "code",
   "execution_count": null,
   "metadata": {
    "collapsed": true
   },
   "outputs": [],
   "source": [
    "(myclass.year == 4) & (myclass.grade >= 10)   # & = and for bit operations"
   ]
  },
  {
   "cell_type": "code",
   "execution_count": null,
   "metadata": {
    "collapsed": true
   },
   "outputs": [],
   "source": [
    "flt = (myclass.year == 4) & (myclass.grade >= 10)  # make the filtering criteria\n",
    "myclass[flt]"
   ]
  },
  {
   "cell_type": "markdown",
   "metadata": {},
   "source": [
    "# 1. Setup Environment and Import Data\n"
   ]
  },
  {
   "cell_type": "markdown",
   "metadata": {},
   "source": [
    "Let us start with necessary imports and data loading. Just execute every cell below. Remember: a convenient shortcut to run a cell and then jumps to the next cell is `Shift + Enter`.\n"
   ]
  },
  {
   "cell_type": "code",
   "execution_count": null,
   "metadata": {
    "collapsed": true
   },
   "outputs": [],
   "source": [
    "import matplotlib.pyplot as plt\n",
    "import pandas as pd #this is how I usually import pandas\n",
    "import sys #only needed to determine Python version number\n",
    "import matplotlib #only needed to determine Matplotlib version number\n",
    "\n",
    "# Enable inline plotting\n",
    "%matplotlib inline"
   ]
  },
  {
   "cell_type": "markdown",
   "metadata": {
    "collapsed": true
   },
   "source": [
    "# 1.1 Install `statsmodels` package.\n",
    "`statsmodels` is a Python package that provides various statistical analysis tools. We will use `statsmodels` for this lab. The package does not come with `Anaconda` by default, but we can easily install it.\n",
    "\n",
    "- Open `Terminal` (or `cmd` in Windows)\n",
    "- Choose an appropriate option:\n",
    "  - If python3 is your default python, then type\n",
    "        conda install statsmodels\n",
    "  - If python3 is NOT your default python, which means you had to activate your Python environment before each session (e.g., \"`source activate python3`\" on Mac or \"`activate python3`\" on Windows), then do the following\n",
    "        conda install --name=python3 statsmodels\n",
    "    where `python3` should be whatever the name of your conda environment is.\n",
    "- Follow the instructions to complete installation. Then come back to this notebook. The rest of the lab will be done within this notebook."
   ]
  },
  {
   "cell_type": "markdown",
   "metadata": {},
   "source": [
    "# 1.2 Import File"
   ]
  },
  {
   "cell_type": "code",
   "execution_count": null,
   "metadata": {
    "collapsed": true
   },
   "outputs": [],
   "source": [
    "\n",
    "#Even though this functions has many parameters, we will simply pass it the location of the text file.\n",
    "#Location = C:\\Users\\fatem_000\\OneDrive\\Academic\\2014 Summer\\TA\\599-VIS-Fall2016\\Lab2\\seeds-subset.csv\n",
    "#Note: Depending on where you save your notebooks, you may need to modify the location above.\n",
    "\n",
    "#Location = r'C:\\Users\\fara\\OneDrive\\Academic\\2014 Summer\\TA\\599-VIS-Fall2016\\Lab2\\olive.csv'\n",
    "Location = r'olive.csv'\n",
    "olive_oil = pd.read_csv(Location)  # load up the file\n",
    "\n",
    "olive_oil"
   ]
  },
  {
   "cell_type": "markdown",
   "metadata": {
    "collapsed": true
   },
   "source": [
    "# 1.3 Import Data"
   ]
  },
  {
   "cell_type": "code",
   "execution_count": null,
   "metadata": {},
   "outputs": [],
   "source": [
    "# This is the Anscombe's quartet\n",
    "# Source - Wikipedia: https://en.wikipedia.org/wiki/Anscombe%27s_quartet\n",
    "from io import StringIO\n",
    "\n",
    "TESTDATA=StringIO(\"\"\"X1,Y1,X2,Y2,X3,Y3,X4,Y4\n",
    "10,8.04,10,9.14,10,7.46,8,6.58\n",
    "8,6.95,8,8.14,8,6.77,8,5.76\n",
    "13,7.58,13,8.74,13,12.74,8,7.71\n",
    "9,8.81,9,8.77,9,7.11,8,8.84\n",
    "11,8.33,11,9.26,11,7.81,8,8.47\n",
    "14,9.96,14,8.1,14,8.84,8,7.04\n",
    "6,7.24,6,6.13,6,6.08,8,5.25\n",
    "4,4.26,4,3.1,4,5.39,19,12.5\n",
    "12,10.84,12,9.13,12,8.15,8,5.56\n",
    "7,4.82,7,7.26,7,6.42,8,7.91\n",
    "5,5.68,5,4.74,5,5.73,8,6.89\"\"\")\n",
    "\n",
    "df = pd.DataFrame.from_csv(TESTDATA, index_col=None)\n",
    "df"
   ]
  },
  {
   "cell_type": "markdown",
   "metadata": {},
   "source": [
    "This dataset contains 4 groups of data: `(X1, Y1)`, to `(X4, Y4)`.\n",
    "\n",
    "It is not hard to notice that `X1`, `X2`, and `X3` are identical. But that doesn't matter now.\n",
    "\n",
    "We can do a quick vis of the data by creating scatterplots.\n"
   ]
  },
  {
   "cell_type": "code",
   "execution_count": null,
   "metadata": {},
   "outputs": [],
   "source": [
    "fig, axs = plt.subplots(2, 2, figsize=(12,9))\n",
    "for i, ax in enumerate(axs.flat):\n",
    "    j = i + 1\n",
    "    ax.scatter(df['X%d'%j], df['Y%d'%j])\n",
    "    ax.set_title('(%d)'%j)\n",
    "    ax.set_xlabel('X%d'%j)\n",
    "    ax.set_ylabel('Y%d'%j)\n",
    "    ax.grid(True)"
   ]
  },
  {
   "cell_type": "markdown",
   "metadata": {},
   "source": [
    "# 2. Compute Summary Statistics"
   ]
  },
  {
   "cell_type": "markdown",
   "metadata": {},
   "source": [
    "Pandas `DataFrames` and `Series` come with a couple of convenient functions for computing basic summary statistics. Try the following commands. Their meanings are quite self-explanatory."
   ]
  },
  {
   "cell_type": "code",
   "execution_count": null,
   "metadata": {},
   "outputs": [],
   "source": [
    "df.mean()"
   ]
  },
  {
   "cell_type": "code",
   "execution_count": null,
   "metadata": {},
   "outputs": [],
   "source": [
    "df.median()"
   ]
  },
  {
   "cell_type": "code",
   "execution_count": null,
   "metadata": {},
   "outputs": [],
   "source": [
    "df.std()"
   ]
  },
  {
   "cell_type": "code",
   "execution_count": null,
   "metadata": {},
   "outputs": [],
   "source": [
    "df.max()"
   ]
  },
  {
   "cell_type": "code",
   "execution_count": null,
   "metadata": {},
   "outputs": [],
   "source": [
    "# This one computes the maximum along the 1st axies (i.e,. across columns).\n",
    "df.max(axis=1)"
   ]
  },
  {
   "cell_type": "code",
   "execution_count": null,
   "metadata": {
    "collapsed": true
   },
   "outputs": [],
   "source": [
    "df.var()"
   ]
  },
  {
   "cell_type": "markdown",
   "metadata": {},
   "source": [
    "You can also apply the functions on a column (i.e,. a Series), too. Such as..."
   ]
  },
  {
   "cell_type": "code",
   "execution_count": null,
   "metadata": {
    "collapsed": true
   },
   "outputs": [],
   "source": [
    "df.X1.mean()"
   ]
  },
  {
   "cell_type": "code",
   "execution_count": null,
   "metadata": {
    "collapsed": true
   },
   "outputs": [],
   "source": [
    "# This one is slightly more complicated... But you can figure this out easily.\n",
    "(df.X1 + df.X2).mean()"
   ]
  },
  {
   "cell_type": "code",
   "execution_count": null,
   "metadata": {
    "collapsed": true
   },
   "outputs": [],
   "source": [
    "# And finally...\n",
    "df.describe()"
   ]
  },
  {
   "cell_type": "markdown",
   "metadata": {},
   "source": [
    "# 3. Binning, Grouping, and Histograms\n",
    "To quickly understand the distribution of data, it is a good idea to use binning and grouping and creating histograms.\n",
    "\n",
    "## 3.1 Binning and Grouping\n",
    "\n",
    "Use the following code to create bins based on `X1`'s values, and check the mean value of both `X1` and `Y1` within each bin."
   ]
  },
  {
   "cell_type": "code",
   "execution_count": null,
   "metadata": {},
   "outputs": [],
   "source": [
    "# Since we have very few data points, I will only use 3 bins (by setting num = 4)\n",
    "bins_by_x1 = np.linspace(start=3, stop=15, num=4)\n",
    "groups_by_x1 = df[['X1','Y1']].groupby(pd.cut(df.X1, bins_by_x1))\n",
    "groups_by_x1.mean()"
   ]
  },
  {
   "cell_type": "code",
   "execution_count": null,
   "metadata": {},
   "outputs": [],
   "source": [
    "bins_by_x1"
   ]
  },
  {
   "cell_type": "code",
   "execution_count": null,
   "metadata": {},
   "outputs": [],
   "source": [
    "pd.cut(df.X1, bins_by_x1)"
   ]
  },
  {
   "cell_type": "markdown",
   "metadata": {},
   "source": [
    "The above result shows the __mean__ value of `X1` and `Y1` binned by the value of `X1`.\n",
    "\n",
    "To understand what is going on in the above commands, feel free to print out the intermediate variables, including:\n",
    "- `bins_by_x1`\n",
    "- `pd.cut(df.X1, bins_by_x1)`\n",
    "- `groups_by_x1`\n",
    "\n",
    "Also try the following commands:"
   ]
  },
  {
   "cell_type": "code",
   "execution_count": null,
   "metadata": {
    "collapsed": true
   },
   "outputs": [],
   "source": [
    "groups_by_x1.median()"
   ]
  },
  {
   "cell_type": "code",
   "execution_count": null,
   "metadata": {},
   "outputs": [],
   "source": [
    "groups_by_x1.size()"
   ]
  },
  {
   "cell_type": "code",
   "execution_count": null,
   "metadata": {
    "collapsed": true
   },
   "outputs": [],
   "source": [
    "groups_by_x1.size().to_frame(name='count')"
   ]
  },
  {
   "cell_type": "markdown",
   "metadata": {},
   "source": [
    "In addition to using existing aggregate functions (i.e., `max, min, mean, median, size`, etc.), you can also define custom functions to \"`apply`\" to the grouping object.\n",
    "\n",
    "The following should generate the same result as the previous one. Try to figure out how it works."
   ]
  },
  {
   "cell_type": "code",
   "execution_count": null,
   "metadata": {
    "collapsed": true
   },
   "outputs": [],
   "source": [
    "groups_by_x1.apply(lambda x: len(x)).to_frame(name='count')"
   ]
  },
  {
   "cell_type": "code",
   "execution_count": null,
   "metadata": {
    "collapsed": true
   },
   "outputs": [],
   "source": [
    "# Or, alternatively, and more confusingly ...\n",
    "groups_by_x1.apply(lambda x: pd.Series({'count': len(x)}))"
   ]
  },
  {
   "cell_type": "markdown",
   "metadata": {},
   "source": [
    "## 3.2 Creating Histograms\n",
    "To create a histogram, simply use `.hist()` on a `Series` object. It automatically handles binning, grouping, and counting.\n",
    "\n",
    "By default, `hist()` generates 10 bins. You may customize this by specifying the `bins` parameter, for example, `hist(bins=5)`.\n",
    "\n",
    "Try the following."
   ]
  },
  {
   "cell_type": "code",
   "execution_count": null,
   "metadata": {
    "collapsed": true
   },
   "outputs": [],
   "source": [
    "df.Y1.hist(bins=5)"
   ]
  },
  {
   "cell_type": "markdown",
   "metadata": {},
   "source": [
    "you may call `hist()` on a `DataFrame` object and obtain a panel of histograms, one for each individual column."
   ]
  },
  {
   "cell_type": "code",
   "execution_count": null,
   "metadata": {
    "collapsed": true
   },
   "outputs": [],
   "source": [
    "_ = df[['Y1','Y2','Y3','Y4']].hist(bins=5, figsize=(10,6))"
   ]
  },
  {
   "cell_type": "markdown",
   "metadata": {},
   "source": [
    "In the above example, notice two things:\n",
    "- I used `figsize=(10, 6)` to specify the size of the figure (the unit is inch, although the `%matplotlib inline` configuration reduces the figure sizes by a predefined ratio automatically).\n",
    "- I put \"`_ =`\" in the front to avoid seeing the returned value of `df.hist`, which I do not care. If you are curious, it is an array of `axes` objects of `matplotlib`. \n",
    "    - In general, `_` can be used whenever you want to ignore the return value of a function."
   ]
  },
  {
   "cell_type": "markdown",
   "metadata": {},
   "source": [
    "You can also make histograms that have side-by-side bars for multiple variables. For the following example, I used `matplotlib`'s `hist` function instead of the equivalence of `pandas`, because it is easier to use the former one to make side-by-side histograms like this."
   ]
  },
  {
   "cell_type": "code",
   "execution_count": null,
   "metadata": {},
   "outputs": [],
   "source": [
    "bins = np.linspace(start=2, stop=12, num=4)\n",
    "plt.hist(df[['Y1','Y2','Y3','Y4']].values, \n",
    "         bins, \n",
    "         label=['Y1','Y2','Y3','Y4'])\n",
    "plt.legend(loc=\"upper left\")\n",
    "plt.grid(True)"
   ]
  },
  {
   "cell_type": "markdown",
   "metadata": {},
   "source": [
    "## 3.3 Boxplots\n",
    "Boxplots (or box and whisker diagrams) is a another good way of depicting the distribution of numerical data by showing the mean, min, max, and interquantile range(IQR).\n",
    "\n",
    "Using `pandas`, it is very easy to create a boxplot of multiple variables."
   ]
  },
  {
   "cell_type": "code",
   "execution_count": null,
   "metadata": {
    "collapsed": true
   },
   "outputs": [],
   "source": [
    "_ = df[['X1','Y1']].boxplot()"
   ]
  },
  {
   "cell_type": "code",
   "execution_count": null,
   "metadata": {
    "collapsed": true
   },
   "outputs": [],
   "source": []
  }
 ],
 "metadata": {
  "anaconda-cloud": {},
  "kernelspec": {
   "display_name": "Python 3",
   "language": "python",
   "name": "python3"
  },
  "language_info": {
   "codemirror_mode": {
    "name": "ipython",
    "version": 3
   },
   "file_extension": ".py",
   "mimetype": "text/x-python",
   "name": "python",
   "nbconvert_exporter": "python",
   "pygments_lexer": "ipython3",
   "version": "3.6.3"
  }
 },
 "nbformat": 4,
 "nbformat_minor": 1
}
